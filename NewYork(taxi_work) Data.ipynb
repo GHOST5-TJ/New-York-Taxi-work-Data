{
  "cells": [
    {
      "cell_type": "code",
      "execution_count": 129,
      "id": "9a1ccb41-d14d-4828-bd52-0dfa314a54a3",
      "metadata": {
        "id": "9a1ccb41-d14d-4828-bd52-0dfa314a54a3"
      },
      "outputs": [],
      "source": [
        "# import relevant modules"
      ]
    },
    {
      "cell_type": "code",
      "source": [
        "import pandas as pd\n",
        "import numpy as np\n",
        "import matplotlib.pyplot as plt\n",
        "import seaborn as sns"
      ],
      "metadata": {
        "id": "UcD3uT6yke5q"
      },
      "id": "UcD3uT6yke5q",
      "execution_count": 130,
      "outputs": []
    },
    {
      "cell_type": "code",
      "execution_count": 131,
      "id": "80b09a15-728f-4a20-af1f-0a52cbccfc82",
      "metadata": {
        "id": "80b09a15-728f-4a20-af1f-0a52cbccfc82"
      },
      "outputs": [],
      "source": [
        "# load 2019 taxi trip data collected by NYC Taxi and Limousine Commission (TLC) into a pandas dataframe\n"
      ]
    },
    {
      "cell_type": "code",
      "source": [
        "df=pd.read_csv('/content/taxis.csv')"
      ],
      "metadata": {
        "id": "OUEJHF6YkrAM"
      },
      "id": "OUEJHF6YkrAM",
      "execution_count": 132,
      "outputs": []
    },
    {
      "cell_type": "code",
      "execution_count": 133,
      "id": "208697f5-14a6-4246-9241-1608379c52a5",
      "metadata": {
        "id": "208697f5-14a6-4246-9241-1608379c52a5",
        "colab": {
          "base_uri": "https://localhost:8080/",
          "height": 313
        },
        "outputId": "619e77fd-2af1-4192-8179-738cc8ce55d1"
      },
      "outputs": [
        {
          "output_type": "execute_result",
          "data": {
            "text/plain": [
              "            pickup          dropoff  passengers  distance  fare   tip  tolls  \\\n",
              "0  3/23/2019 20:21  3/23/2019 20:27           1      1.60   7.0  2.15    0.0   \n",
              "1   3/4/2019 16:11   3/4/2019 16:19           1      0.79   5.0  0.00    0.0   \n",
              "2  3/27/2019 17:53  3/27/2019 18:00           1      1.37   7.5  2.36    0.0   \n",
              "3   3/10/2019 1:23   3/10/2019 1:49           1      7.70  27.0  6.15    0.0   \n",
              "4  3/30/2019 13:27  3/30/2019 13:37           3      2.16   9.0  1.10    0.0   \n",
              "\n",
              "   total   color      payment            pickup_zone           dropoff_zone  \\\n",
              "0  12.95  yellow  credit card        Lenox Hill West    UN/Turtle Bay South   \n",
              "1   9.30  yellow         cash  Upper West Side South  Upper West Side South   \n",
              "2  14.16  yellow  credit card          Alphabet City           West Village   \n",
              "3  36.95  yellow  credit card              Hudson Sq         Yorkville West   \n",
              "4  13.40  yellow  credit card           Midtown East         Yorkville West   \n",
              "\n",
              "  pickup_borough dropoff_borough  \n",
              "0      Manhattan       Manhattan  \n",
              "1      Manhattan       Manhattan  \n",
              "2      Manhattan       Manhattan  \n",
              "3      Manhattan       Manhattan  \n",
              "4      Manhattan       Manhattan  "
            ],
            "text/html": [
              "\n",
              "  <div id=\"df-1d032e3d-30fd-4c5e-a8fe-8ef2f1dfb32b\" class=\"colab-df-container\">\n",
              "    <div>\n",
              "<style scoped>\n",
              "    .dataframe tbody tr th:only-of-type {\n",
              "        vertical-align: middle;\n",
              "    }\n",
              "\n",
              "    .dataframe tbody tr th {\n",
              "        vertical-align: top;\n",
              "    }\n",
              "\n",
              "    .dataframe thead th {\n",
              "        text-align: right;\n",
              "    }\n",
              "</style>\n",
              "<table border=\"1\" class=\"dataframe\">\n",
              "  <thead>\n",
              "    <tr style=\"text-align: right;\">\n",
              "      <th></th>\n",
              "      <th>pickup</th>\n",
              "      <th>dropoff</th>\n",
              "      <th>passengers</th>\n",
              "      <th>distance</th>\n",
              "      <th>fare</th>\n",
              "      <th>tip</th>\n",
              "      <th>tolls</th>\n",
              "      <th>total</th>\n",
              "      <th>color</th>\n",
              "      <th>payment</th>\n",
              "      <th>pickup_zone</th>\n",
              "      <th>dropoff_zone</th>\n",
              "      <th>pickup_borough</th>\n",
              "      <th>dropoff_borough</th>\n",
              "    </tr>\n",
              "  </thead>\n",
              "  <tbody>\n",
              "    <tr>\n",
              "      <th>0</th>\n",
              "      <td>3/23/2019 20:21</td>\n",
              "      <td>3/23/2019 20:27</td>\n",
              "      <td>1</td>\n",
              "      <td>1.60</td>\n",
              "      <td>7.0</td>\n",
              "      <td>2.15</td>\n",
              "      <td>0.0</td>\n",
              "      <td>12.95</td>\n",
              "      <td>yellow</td>\n",
              "      <td>credit card</td>\n",
              "      <td>Lenox Hill West</td>\n",
              "      <td>UN/Turtle Bay South</td>\n",
              "      <td>Manhattan</td>\n",
              "      <td>Manhattan</td>\n",
              "    </tr>\n",
              "    <tr>\n",
              "      <th>1</th>\n",
              "      <td>3/4/2019 16:11</td>\n",
              "      <td>3/4/2019 16:19</td>\n",
              "      <td>1</td>\n",
              "      <td>0.79</td>\n",
              "      <td>5.0</td>\n",
              "      <td>0.00</td>\n",
              "      <td>0.0</td>\n",
              "      <td>9.30</td>\n",
              "      <td>yellow</td>\n",
              "      <td>cash</td>\n",
              "      <td>Upper West Side South</td>\n",
              "      <td>Upper West Side South</td>\n",
              "      <td>Manhattan</td>\n",
              "      <td>Manhattan</td>\n",
              "    </tr>\n",
              "    <tr>\n",
              "      <th>2</th>\n",
              "      <td>3/27/2019 17:53</td>\n",
              "      <td>3/27/2019 18:00</td>\n",
              "      <td>1</td>\n",
              "      <td>1.37</td>\n",
              "      <td>7.5</td>\n",
              "      <td>2.36</td>\n",
              "      <td>0.0</td>\n",
              "      <td>14.16</td>\n",
              "      <td>yellow</td>\n",
              "      <td>credit card</td>\n",
              "      <td>Alphabet City</td>\n",
              "      <td>West Village</td>\n",
              "      <td>Manhattan</td>\n",
              "      <td>Manhattan</td>\n",
              "    </tr>\n",
              "    <tr>\n",
              "      <th>3</th>\n",
              "      <td>3/10/2019 1:23</td>\n",
              "      <td>3/10/2019 1:49</td>\n",
              "      <td>1</td>\n",
              "      <td>7.70</td>\n",
              "      <td>27.0</td>\n",
              "      <td>6.15</td>\n",
              "      <td>0.0</td>\n",
              "      <td>36.95</td>\n",
              "      <td>yellow</td>\n",
              "      <td>credit card</td>\n",
              "      <td>Hudson Sq</td>\n",
              "      <td>Yorkville West</td>\n",
              "      <td>Manhattan</td>\n",
              "      <td>Manhattan</td>\n",
              "    </tr>\n",
              "    <tr>\n",
              "      <th>4</th>\n",
              "      <td>3/30/2019 13:27</td>\n",
              "      <td>3/30/2019 13:37</td>\n",
              "      <td>3</td>\n",
              "      <td>2.16</td>\n",
              "      <td>9.0</td>\n",
              "      <td>1.10</td>\n",
              "      <td>0.0</td>\n",
              "      <td>13.40</td>\n",
              "      <td>yellow</td>\n",
              "      <td>credit card</td>\n",
              "      <td>Midtown East</td>\n",
              "      <td>Yorkville West</td>\n",
              "      <td>Manhattan</td>\n",
              "      <td>Manhattan</td>\n",
              "    </tr>\n",
              "  </tbody>\n",
              "</table>\n",
              "</div>\n",
              "    <div class=\"colab-df-buttons\">\n",
              "\n",
              "  <div class=\"colab-df-container\">\n",
              "    <button class=\"colab-df-convert\" onclick=\"convertToInteractive('df-1d032e3d-30fd-4c5e-a8fe-8ef2f1dfb32b')\"\n",
              "            title=\"Convert this dataframe to an interactive table.\"\n",
              "            style=\"display:none;\">\n",
              "\n",
              "  <svg xmlns=\"http://www.w3.org/2000/svg\" height=\"24px\" viewBox=\"0 -960 960 960\">\n",
              "    <path d=\"M120-120v-720h720v720H120Zm60-500h600v-160H180v160Zm220 220h160v-160H400v160Zm0 220h160v-160H400v160ZM180-400h160v-160H180v160Zm440 0h160v-160H620v160ZM180-180h160v-160H180v160Zm440 0h160v-160H620v160Z\"/>\n",
              "  </svg>\n",
              "    </button>\n",
              "\n",
              "  <style>\n",
              "    .colab-df-container {\n",
              "      display:flex;\n",
              "      gap: 12px;\n",
              "    }\n",
              "\n",
              "    .colab-df-convert {\n",
              "      background-color: #E8F0FE;\n",
              "      border: none;\n",
              "      border-radius: 50%;\n",
              "      cursor: pointer;\n",
              "      display: none;\n",
              "      fill: #1967D2;\n",
              "      height: 32px;\n",
              "      padding: 0 0 0 0;\n",
              "      width: 32px;\n",
              "    }\n",
              "\n",
              "    .colab-df-convert:hover {\n",
              "      background-color: #E2EBFA;\n",
              "      box-shadow: 0px 1px 2px rgba(60, 64, 67, 0.3), 0px 1px 3px 1px rgba(60, 64, 67, 0.15);\n",
              "      fill: #174EA6;\n",
              "    }\n",
              "\n",
              "    .colab-df-buttons div {\n",
              "      margin-bottom: 4px;\n",
              "    }\n",
              "\n",
              "    [theme=dark] .colab-df-convert {\n",
              "      background-color: #3B4455;\n",
              "      fill: #D2E3FC;\n",
              "    }\n",
              "\n",
              "    [theme=dark] .colab-df-convert:hover {\n",
              "      background-color: #434B5C;\n",
              "      box-shadow: 0px 1px 3px 1px rgba(0, 0, 0, 0.15);\n",
              "      filter: drop-shadow(0px 1px 2px rgba(0, 0, 0, 0.3));\n",
              "      fill: #FFFFFF;\n",
              "    }\n",
              "  </style>\n",
              "\n",
              "    <script>\n",
              "      const buttonEl =\n",
              "        document.querySelector('#df-1d032e3d-30fd-4c5e-a8fe-8ef2f1dfb32b button.colab-df-convert');\n",
              "      buttonEl.style.display =\n",
              "        google.colab.kernel.accessAllowed ? 'block' : 'none';\n",
              "\n",
              "      async function convertToInteractive(key) {\n",
              "        const element = document.querySelector('#df-1d032e3d-30fd-4c5e-a8fe-8ef2f1dfb32b');\n",
              "        const dataTable =\n",
              "          await google.colab.kernel.invokeFunction('convertToInteractive',\n",
              "                                                    [key], {});\n",
              "        if (!dataTable) return;\n",
              "\n",
              "        const docLinkHtml = 'Like what you see? Visit the ' +\n",
              "          '<a target=\"_blank\" href=https://colab.research.google.com/notebooks/data_table.ipynb>data table notebook</a>'\n",
              "          + ' to learn more about interactive tables.';\n",
              "        element.innerHTML = '';\n",
              "        dataTable['output_type'] = 'display_data';\n",
              "        await google.colab.output.renderOutput(dataTable, element);\n",
              "        const docLink = document.createElement('div');\n",
              "        docLink.innerHTML = docLinkHtml;\n",
              "        element.appendChild(docLink);\n",
              "      }\n",
              "    </script>\n",
              "  </div>\n",
              "\n",
              "\n",
              "<div id=\"df-37a359f7-2ef0-419c-b9bf-0ebd46a6505d\">\n",
              "  <button class=\"colab-df-quickchart\" onclick=\"quickchart('df-37a359f7-2ef0-419c-b9bf-0ebd46a6505d')\"\n",
              "            title=\"Suggest charts\"\n",
              "            style=\"display:none;\">\n",
              "\n",
              "<svg xmlns=\"http://www.w3.org/2000/svg\" height=\"24px\"viewBox=\"0 0 24 24\"\n",
              "     width=\"24px\">\n",
              "    <g>\n",
              "        <path d=\"M19 3H5c-1.1 0-2 .9-2 2v14c0 1.1.9 2 2 2h14c1.1 0 2-.9 2-2V5c0-1.1-.9-2-2-2zM9 17H7v-7h2v7zm4 0h-2V7h2v10zm4 0h-2v-4h2v4z\"/>\n",
              "    </g>\n",
              "</svg>\n",
              "  </button>\n",
              "\n",
              "<style>\n",
              "  .colab-df-quickchart {\n",
              "      --bg-color: #E8F0FE;\n",
              "      --fill-color: #1967D2;\n",
              "      --hover-bg-color: #E2EBFA;\n",
              "      --hover-fill-color: #174EA6;\n",
              "      --disabled-fill-color: #AAA;\n",
              "      --disabled-bg-color: #DDD;\n",
              "  }\n",
              "\n",
              "  [theme=dark] .colab-df-quickchart {\n",
              "      --bg-color: #3B4455;\n",
              "      --fill-color: #D2E3FC;\n",
              "      --hover-bg-color: #434B5C;\n",
              "      --hover-fill-color: #FFFFFF;\n",
              "      --disabled-bg-color: #3B4455;\n",
              "      --disabled-fill-color: #666;\n",
              "  }\n",
              "\n",
              "  .colab-df-quickchart {\n",
              "    background-color: var(--bg-color);\n",
              "    border: none;\n",
              "    border-radius: 50%;\n",
              "    cursor: pointer;\n",
              "    display: none;\n",
              "    fill: var(--fill-color);\n",
              "    height: 32px;\n",
              "    padding: 0;\n",
              "    width: 32px;\n",
              "  }\n",
              "\n",
              "  .colab-df-quickchart:hover {\n",
              "    background-color: var(--hover-bg-color);\n",
              "    box-shadow: 0 1px 2px rgba(60, 64, 67, 0.3), 0 1px 3px 1px rgba(60, 64, 67, 0.15);\n",
              "    fill: var(--button-hover-fill-color);\n",
              "  }\n",
              "\n",
              "  .colab-df-quickchart-complete:disabled,\n",
              "  .colab-df-quickchart-complete:disabled:hover {\n",
              "    background-color: var(--disabled-bg-color);\n",
              "    fill: var(--disabled-fill-color);\n",
              "    box-shadow: none;\n",
              "  }\n",
              "\n",
              "  .colab-df-spinner {\n",
              "    border: 2px solid var(--fill-color);\n",
              "    border-color: transparent;\n",
              "    border-bottom-color: var(--fill-color);\n",
              "    animation:\n",
              "      spin 1s steps(1) infinite;\n",
              "  }\n",
              "\n",
              "  @keyframes spin {\n",
              "    0% {\n",
              "      border-color: transparent;\n",
              "      border-bottom-color: var(--fill-color);\n",
              "      border-left-color: var(--fill-color);\n",
              "    }\n",
              "    20% {\n",
              "      border-color: transparent;\n",
              "      border-left-color: var(--fill-color);\n",
              "      border-top-color: var(--fill-color);\n",
              "    }\n",
              "    30% {\n",
              "      border-color: transparent;\n",
              "      border-left-color: var(--fill-color);\n",
              "      border-top-color: var(--fill-color);\n",
              "      border-right-color: var(--fill-color);\n",
              "    }\n",
              "    40% {\n",
              "      border-color: transparent;\n",
              "      border-right-color: var(--fill-color);\n",
              "      border-top-color: var(--fill-color);\n",
              "    }\n",
              "    60% {\n",
              "      border-color: transparent;\n",
              "      border-right-color: var(--fill-color);\n",
              "    }\n",
              "    80% {\n",
              "      border-color: transparent;\n",
              "      border-right-color: var(--fill-color);\n",
              "      border-bottom-color: var(--fill-color);\n",
              "    }\n",
              "    90% {\n",
              "      border-color: transparent;\n",
              "      border-bottom-color: var(--fill-color);\n",
              "    }\n",
              "  }\n",
              "</style>\n",
              "\n",
              "  <script>\n",
              "    async function quickchart(key) {\n",
              "      const quickchartButtonEl =\n",
              "        document.querySelector('#' + key + ' button');\n",
              "      quickchartButtonEl.disabled = true;  // To prevent multiple clicks.\n",
              "      quickchartButtonEl.classList.add('colab-df-spinner');\n",
              "      try {\n",
              "        const charts = await google.colab.kernel.invokeFunction(\n",
              "            'suggestCharts', [key], {});\n",
              "      } catch (error) {\n",
              "        console.error('Error during call to suggestCharts:', error);\n",
              "      }\n",
              "      quickchartButtonEl.classList.remove('colab-df-spinner');\n",
              "      quickchartButtonEl.classList.add('colab-df-quickchart-complete');\n",
              "    }\n",
              "    (() => {\n",
              "      let quickchartButtonEl =\n",
              "        document.querySelector('#df-37a359f7-2ef0-419c-b9bf-0ebd46a6505d button');\n",
              "      quickchartButtonEl.style.display =\n",
              "        google.colab.kernel.accessAllowed ? 'block' : 'none';\n",
              "    })();\n",
              "  </script>\n",
              "</div>\n",
              "\n",
              "    </div>\n",
              "  </div>\n"
            ],
            "application/vnd.google.colaboratory.intrinsic+json": {
              "type": "dataframe",
              "variable_name": "df",
              "summary": "{\n  \"name\": \"df\",\n  \"rows\": 6433,\n  \"fields\": [\n    {\n      \"column\": \"pickup\",\n      \"properties\": {\n        \"dtype\": \"object\",\n        \"num_unique_values\": 5899,\n        \"samples\": [\n          \"3/3/2019 9:17\",\n          \"3/25/2019 13:07\",\n          \"3/30/2019 20:50\"\n        ],\n        \"semantic_type\": \"\",\n        \"description\": \"\"\n      }\n    },\n    {\n      \"column\": \"dropoff\",\n      \"properties\": {\n        \"dtype\": \"object\",\n        \"num_unique_values\": 5880,\n        \"samples\": [\n          \"3/5/2019 11:44\",\n          \"3/30/2019 13:48\",\n          \"3/16/2019 13:33\"\n        ],\n        \"semantic_type\": \"\",\n        \"description\": \"\"\n      }\n    },\n    {\n      \"column\": \"passengers\",\n      \"properties\": {\n        \"dtype\": \"number\",\n        \"std\": 1,\n        \"min\": 0,\n        \"max\": 6,\n        \"num_unique_values\": 7,\n        \"samples\": [\n          1,\n          3,\n          2\n        ],\n        \"semantic_type\": \"\",\n        \"description\": \"\"\n      }\n    },\n    {\n      \"column\": \"distance\",\n      \"properties\": {\n        \"dtype\": \"number\",\n        \"std\": 3.8278670010117537,\n        \"min\": 0.0,\n        \"max\": 36.7,\n        \"num_unique_values\": 1079,\n        \"samples\": [\n          2.08,\n          19.43,\n          16.65\n        ],\n        \"semantic_type\": \"\",\n        \"description\": \"\"\n      }\n    },\n    {\n      \"column\": \"fare\",\n      \"properties\": {\n        \"dtype\": \"number\",\n        \"std\": 11.55180426641491,\n        \"min\": 1.0,\n        \"max\": 150.0,\n        \"num_unique_values\": 220,\n        \"samples\": [\n          143.5,\n          16.39,\n          44.5\n        ],\n        \"semantic_type\": \"\",\n        \"description\": \"\"\n      }\n    },\n    {\n      \"column\": \"tip\",\n      \"properties\": {\n        \"dtype\": \"number\",\n        \"std\": 2.4485595916360454,\n        \"min\": 0.0,\n        \"max\": 33.2,\n        \"num_unique_values\": 489,\n        \"samples\": [\n          3.21,\n          7.31,\n          6.82\n        ],\n        \"semantic_type\": \"\",\n        \"description\": \"\"\n      }\n    },\n    {\n      \"column\": \"tolls\",\n      \"properties\": {\n        \"dtype\": \"number\",\n        \"std\": 1.4152673297904774,\n        \"min\": 0.0,\n        \"max\": 24.02,\n        \"num_unique_values\": 16,\n        \"samples\": [\n          0.0,\n          5.76,\n          17.28\n        ],\n        \"semantic_type\": \"\",\n        \"description\": \"\"\n      }\n    },\n    {\n      \"column\": \"total\",\n      \"properties\": {\n        \"dtype\": \"number\",\n        \"std\": 13.81557004106683,\n        \"min\": 1.3,\n        \"max\": 174.82,\n        \"num_unique_values\": 898,\n        \"samples\": [\n          4.8,\n          42.0,\n          50.76\n        ],\n        \"semantic_type\": \"\",\n        \"description\": \"\"\n      }\n    },\n    {\n      \"column\": \"color\",\n      \"properties\": {\n        \"dtype\": \"category\",\n        \"num_unique_values\": 2,\n        \"samples\": [\n          \"green\",\n          \"yellow\"\n        ],\n        \"semantic_type\": \"\",\n        \"description\": \"\"\n      }\n    },\n    {\n      \"column\": \"payment\",\n      \"properties\": {\n        \"dtype\": \"category\",\n        \"num_unique_values\": 2,\n        \"samples\": [\n          \"cash\",\n          \"credit card\"\n        ],\n        \"semantic_type\": \"\",\n        \"description\": \"\"\n      }\n    },\n    {\n      \"column\": \"pickup_zone\",\n      \"properties\": {\n        \"dtype\": \"category\",\n        \"num_unique_values\": 194,\n        \"samples\": [\n          \"University Heights/Morris Heights\",\n          \"Gramercy\"\n        ],\n        \"semantic_type\": \"\",\n        \"description\": \"\"\n      }\n    },\n    {\n      \"column\": \"dropoff_zone\",\n      \"properties\": {\n        \"dtype\": \"category\",\n        \"num_unique_values\": 203,\n        \"samples\": [\n          \"East Chelsea\",\n          \"Astoria\"\n        ],\n        \"semantic_type\": \"\",\n        \"description\": \"\"\n      }\n    },\n    {\n      \"column\": \"pickup_borough\",\n      \"properties\": {\n        \"dtype\": \"category\",\n        \"num_unique_values\": 4,\n        \"samples\": [\n          \"Queens\",\n          \"Brooklyn\"\n        ],\n        \"semantic_type\": \"\",\n        \"description\": \"\"\n      }\n    },\n    {\n      \"column\": \"dropoff_borough\",\n      \"properties\": {\n        \"dtype\": \"category\",\n        \"num_unique_values\": 5,\n        \"samples\": [\n          \"Queens\",\n          \"Staten Island\"\n        ],\n        \"semantic_type\": \"\",\n        \"description\": \"\"\n      }\n    }\n  ]\n}"
            }
          },
          "metadata": {},
          "execution_count": 133
        }
      ],
      "source": [
        "# take a look at the dataset()\n",
        "df.head()"
      ]
    },
    {
      "cell_type": "markdown",
      "id": "f93bc765-fc54-4b64-9f9f-6d53e3d5e0ae",
      "metadata": {
        "id": "f93bc765-fc54-4b64-9f9f-6d53e3d5e0ae"
      },
      "source": [
        "How many rows?"
      ]
    },
    {
      "cell_type": "code",
      "execution_count": 134,
      "id": "64562c4f-ff97-40bf-b4dc-8fc1543bd21b",
      "metadata": {
        "id": "64562c4f-ff97-40bf-b4dc-8fc1543bd21b",
        "colab": {
          "base_uri": "https://localhost:8080/"
        },
        "outputId": "d0b8bb4d-a1bb-42d2-e540-48fc135ecd59"
      },
      "outputs": [
        {
          "output_type": "execute_result",
          "data": {
            "text/plain": [
              "6433"
            ]
          },
          "metadata": {},
          "execution_count": 134
        }
      ],
      "source": [
        "# Write code here\n",
        "df.shape[0]"
      ]
    },
    {
      "cell_type": "markdown",
      "id": "7aa40615-f82e-466f-b56d-343afa1771cb",
      "metadata": {
        "id": "7aa40615-f82e-466f-b56d-343afa1771cb"
      },
      "source": [
        "How many columns?"
      ]
    },
    {
      "cell_type": "code",
      "execution_count": 135,
      "id": "5ddd1860-f82a-4e04-8a17-05a895de8bdf",
      "metadata": {
        "id": "5ddd1860-f82a-4e04-8a17-05a895de8bdf",
        "colab": {
          "base_uri": "https://localhost:8080/"
        },
        "outputId": "b5f1b5ec-980f-4946-deb3-29ba7b3d635c"
      },
      "outputs": [
        {
          "output_type": "execute_result",
          "data": {
            "text/plain": [
              "14"
            ]
          },
          "metadata": {},
          "execution_count": 135
        }
      ],
      "source": [
        "# Write code here\n",
        "df.shape[1]"
      ]
    },
    {
      "cell_type": "markdown",
      "id": "70bfae33-2232-4ba7-8ba8-4a24b02e2f0c",
      "metadata": {
        "id": "70bfae33-2232-4ba7-8ba8-4a24b02e2f0c"
      },
      "source": [
        "How many missing values in each column?"
      ]
    },
    {
      "cell_type": "code",
      "execution_count": 136,
      "id": "d6376fc1-0730-45a3-810f-9ba1feeaa89e",
      "metadata": {
        "id": "d6376fc1-0730-45a3-810f-9ba1feeaa89e",
        "colab": {
          "base_uri": "https://localhost:8080/",
          "height": 523
        },
        "outputId": "216a94ec-3d71-49ff-c82c-4ed49bf70768"
      },
      "outputs": [
        {
          "output_type": "execute_result",
          "data": {
            "text/plain": [
              "pickup              0\n",
              "dropoff             0\n",
              "passengers          0\n",
              "distance            0\n",
              "fare                0\n",
              "tip                 0\n",
              "tolls               0\n",
              "total               0\n",
              "color               0\n",
              "payment            44\n",
              "pickup_zone        26\n",
              "dropoff_zone       45\n",
              "pickup_borough     26\n",
              "dropoff_borough    45\n",
              "dtype: int64"
            ],
            "text/html": [
              "<div>\n",
              "<style scoped>\n",
              "    .dataframe tbody tr th:only-of-type {\n",
              "        vertical-align: middle;\n",
              "    }\n",
              "\n",
              "    .dataframe tbody tr th {\n",
              "        vertical-align: top;\n",
              "    }\n",
              "\n",
              "    .dataframe thead th {\n",
              "        text-align: right;\n",
              "    }\n",
              "</style>\n",
              "<table border=\"1\" class=\"dataframe\">\n",
              "  <thead>\n",
              "    <tr style=\"text-align: right;\">\n",
              "      <th></th>\n",
              "      <th>0</th>\n",
              "    </tr>\n",
              "  </thead>\n",
              "  <tbody>\n",
              "    <tr>\n",
              "      <th>pickup</th>\n",
              "      <td>0</td>\n",
              "    </tr>\n",
              "    <tr>\n",
              "      <th>dropoff</th>\n",
              "      <td>0</td>\n",
              "    </tr>\n",
              "    <tr>\n",
              "      <th>passengers</th>\n",
              "      <td>0</td>\n",
              "    </tr>\n",
              "    <tr>\n",
              "      <th>distance</th>\n",
              "      <td>0</td>\n",
              "    </tr>\n",
              "    <tr>\n",
              "      <th>fare</th>\n",
              "      <td>0</td>\n",
              "    </tr>\n",
              "    <tr>\n",
              "      <th>tip</th>\n",
              "      <td>0</td>\n",
              "    </tr>\n",
              "    <tr>\n",
              "      <th>tolls</th>\n",
              "      <td>0</td>\n",
              "    </tr>\n",
              "    <tr>\n",
              "      <th>total</th>\n",
              "      <td>0</td>\n",
              "    </tr>\n",
              "    <tr>\n",
              "      <th>color</th>\n",
              "      <td>0</td>\n",
              "    </tr>\n",
              "    <tr>\n",
              "      <th>payment</th>\n",
              "      <td>44</td>\n",
              "    </tr>\n",
              "    <tr>\n",
              "      <th>pickup_zone</th>\n",
              "      <td>26</td>\n",
              "    </tr>\n",
              "    <tr>\n",
              "      <th>dropoff_zone</th>\n",
              "      <td>45</td>\n",
              "    </tr>\n",
              "    <tr>\n",
              "      <th>pickup_borough</th>\n",
              "      <td>26</td>\n",
              "    </tr>\n",
              "    <tr>\n",
              "      <th>dropoff_borough</th>\n",
              "      <td>45</td>\n",
              "    </tr>\n",
              "  </tbody>\n",
              "</table>\n",
              "</div><br><label><b>dtype:</b> int64</label>"
            ]
          },
          "metadata": {},
          "execution_count": 136
        }
      ],
      "source": [
        "# Write code here\n",
        "df.isnull().sum()"
      ]
    },
    {
      "cell_type": "markdown",
      "id": "5bc84118-4bd9-4706-8070-a2aff3509d62",
      "metadata": {
        "id": "5bc84118-4bd9-4706-8070-a2aff3509d62"
      },
      "source": [
        "What is the average distance traveled by the taxi trips in this dataset?"
      ]
    },
    {
      "cell_type": "code",
      "execution_count": 137,
      "id": "1e9dc646-7c06-46d8-93a6-ef92a59a89ac",
      "metadata": {
        "id": "1e9dc646-7c06-46d8-93a6-ef92a59a89ac",
        "colab": {
          "base_uri": "https://localhost:8080/"
        },
        "outputId": "0ae7d6b0-d221-4dc6-8138-8b5434d8d064"
      },
      "outputs": [
        {
          "output_type": "execute_result",
          "data": {
            "text/plain": [
              "3.024616819524328"
            ]
          },
          "metadata": {},
          "execution_count": 137
        }
      ],
      "source": [
        "# Write code here\n",
        "df['distance'].mean()"
      ]
    },
    {
      "cell_type": "markdown",
      "id": "df19c12e-a4cf-4248-b6f6-e396d7e3c0ef",
      "metadata": {
        "id": "df19c12e-a4cf-4248-b6f6-e396d7e3c0ef"
      },
      "source": [
        "Create a histogram to visualize the distribution of distances."
      ]
    },
    {
      "cell_type": "code",
      "execution_count": 138,
      "id": "d0e58e6d-6e25-41e5-8f75-e92e86f766ab",
      "metadata": {
        "id": "d0e58e6d-6e25-41e5-8f75-e92e86f766ab",
        "colab": {
          "base_uri": "https://localhost:8080/",
          "height": 448
        },
        "outputId": "94e5460c-4e98-444d-92d2-4707fa32cdd8"
      },
      "outputs": [
        {
          "output_type": "execute_result",
          "data": {
            "text/plain": [
              "<Axes: >"
            ]
          },
          "metadata": {},
          "execution_count": 138
        },
        {
          "output_type": "display_data",
          "data": {
            "text/plain": [
              "<Figure size 640x480 with 1 Axes>"
            ],
            "image/png": "[encoded data removed]"
          },
          "metadata": {}
        }
      ],
      "source": [
        "# Write code here\n",
        "df['distance'].hist()"
      ]
    },
    {
      "cell_type": "markdown",
      "id": "f3e13e39-e284-400a-8e85-97459b6700f8",
      "metadata": {
        "id": "f3e13e39-e284-400a-8e85-97459b6700f8"
      },
      "source": [
        "What do notice you about the shape of the distribution given the histogram above?"
      ]
    },
    {
      "cell_type": "markdown",
      "id": "a7ec16d9-8421-4350-9484-4f994bfb3214",
      "metadata": {
        "id": "a7ec16d9-8421-4350-9484-4f994bfb3214"
      },
      "source": [
        "Write response here"
      ]
    },
    {
      "cell_type": "markdown",
      "source": [
        "from our observation, the distribution of the dataset is positively skewed. this means that, there are more data points clustered (grouped together) on the left side of the distribution, with fewer data points extending towards the right.\n",
        "Also, the number of people that traveled short distance, are more than the people that traveled for a longer distance."
      ],
      "metadata": {
        "id": "_AdnAvvTrOTA"
      },
      "id": "_AdnAvvTrOTA"
    },
    {
      "cell_type": "markdown",
      "id": "65d794d6-f054-46d6-9d53-351f00a49b0d",
      "metadata": {
        "id": "65d794d6-f054-46d6-9d53-351f00a49b0d"
      },
      "source": [
        "Create a scatterplot to visualize total cost of taxi trip over distance traveled."
      ]
    },
    {
      "cell_type": "code",
      "execution_count": 139,
      "id": "d3dcb949-629f-4dec-be4c-e0e366584a7d",
      "metadata": {
        "id": "d3dcb949-629f-4dec-be4c-e0e366584a7d",
        "colab": {
          "base_uri": "https://localhost:8080/",
          "height": 467
        },
        "outputId": "8ff6b1f3-202e-4fb2-95d8-4bc9e89876a2"
      },
      "outputs": [
        {
          "output_type": "execute_result",
          "data": {
            "text/plain": [
              "<Axes: xlabel='distance', ylabel='total'>"
            ]
          },
          "metadata": {},
          "execution_count": 139
        },
        {
          "output_type": "display_data",
          "data": {
            "text/plain": [
              "<Figure size 640x480 with 1 Axes>"
            ],
            "image/png": "[encoded data removed]"
          },
          "metadata": {}
        }
      ],
      "source": [
        "# Write code here\n",
        "df.plot.scatter(x='distance', y='total')"
      ]
    },
    {
      "cell_type": "markdown",
      "id": "2f449ee9-832b-475f-81b0-6b1474a48152",
      "metadata": {
        "id": "2f449ee9-832b-475f-81b0-6b1474a48152"
      },
      "source": [
        "What trend do you see in the scatterplot?"
      ]
    },
    {
      "cell_type": "markdown",
      "id": "073d885f-b55e-407c-acb7-1d16f5c350c2",
      "metadata": {
        "id": "073d885f-b55e-407c-acb7-1d16f5c350c2"
      },
      "source": [
        "Write response here"
      ]
    },
    {
      "cell_type": "markdown",
      "source": [
        "The scatter plot shows a positive correlation. This suggests that the variables are positively related. From our observation, as distance increases, total value also increases."
      ],
      "metadata": {
        "id": "sg3BbTKdtnaJ"
      },
      "id": "sg3BbTKdtnaJ"
    },
    {
      "cell_type": "markdown",
      "id": "6577fe89-aa05-4c6c-a5bc-0674e206e2e7",
      "metadata": {
        "id": "6577fe89-aa05-4c6c-a5bc-0674e206e2e7"
      },
      "source": [
        "Drop the rows where there is a missing value in the \"payment\" column."
      ]
    },
    {
      "cell_type": "code",
      "execution_count": 140,
      "id": "70d963be-d70c-4451-81e8-7f0743ad5d2c",
      "metadata": {
        "id": "70d963be-d70c-4451-81e8-7f0743ad5d2c"
      },
      "outputs": [],
      "source": [
        "# Write code here\n",
        "df.dropna(subset=['payment'],inplace=True)"
      ]
    },
    {
      "cell_type": "markdown",
      "id": "9ef331b8-6ef4-484a-b907-5a2a50e4d6f8",
      "metadata": {
        "id": "9ef331b8-6ef4-484a-b907-5a2a50e4d6f8"
      },
      "source": [
        "Confirm that there are no missing values in the \"payment\" column now."
      ]
    },
    {
      "cell_type": "code",
      "execution_count": 141,
      "id": "c754fa89-515f-4e33-95e3-504d1364ae4d",
      "metadata": {
        "id": "c754fa89-515f-4e33-95e3-504d1364ae4d",
        "colab": {
          "base_uri": "https://localhost:8080/",
          "height": 523
        },
        "outputId": "15a6b855-143f-412a-e574-4ed0362776d0"
      },
      "outputs": [
        {
          "output_type": "execute_result",
          "data": {
            "text/plain": [
              "pickup              0\n",
              "dropoff             0\n",
              "passengers          0\n",
              "distance            0\n",
              "fare                0\n",
              "tip                 0\n",
              "tolls               0\n",
              "total               0\n",
              "color               0\n",
              "payment             0\n",
              "pickup_zone        25\n",
              "dropoff_zone       44\n",
              "pickup_borough     25\n",
              "dropoff_borough    44\n",
              "dtype: int64"
            ],
            "text/html": [
              "<div>\n",
              "<style scoped>\n",
              "    .dataframe tbody tr th:only-of-type {\n",
              "        vertical-align: middle;\n",
              "    }\n",
              "\n",
              "    .dataframe tbody tr th {\n",
              "        vertical-align: top;\n",
              "    }\n",
              "\n",
              "    .dataframe thead th {\n",
              "        text-align: right;\n",
              "    }\n",
              "</style>\n",
              "<table border=\"1\" class=\"dataframe\">\n",
              "  <thead>\n",
              "    <tr style=\"text-align: right;\">\n",
              "      <th></th>\n",
              "      <th>0</th>\n",
              "    </tr>\n",
              "  </thead>\n",
              "  <tbody>\n",
              "    <tr>\n",
              "      <th>pickup</th>\n",
              "      <td>0</td>\n",
              "    </tr>\n",
              "    <tr>\n",
              "      <th>dropoff</th>\n",
              "      <td>0</td>\n",
              "    </tr>\n",
              "    <tr>\n",
              "      <th>passengers</th>\n",
              "      <td>0</td>\n",
              "    </tr>\n",
              "    <tr>\n",
              "      <th>distance</th>\n",
              "      <td>0</td>\n",
              "    </tr>\n",
              "    <tr>\n",
              "      <th>fare</th>\n",
              "      <td>0</td>\n",
              "    </tr>\n",
              "    <tr>\n",
              "      <th>tip</th>\n",
              "      <td>0</td>\n",
              "    </tr>\n",
              "    <tr>\n",
              "      <th>tolls</th>\n",
              "      <td>0</td>\n",
              "    </tr>\n",
              "    <tr>\n",
              "      <th>total</th>\n",
              "      <td>0</td>\n",
              "    </tr>\n",
              "    <tr>\n",
              "      <th>color</th>\n",
              "      <td>0</td>\n",
              "    </tr>\n",
              "    <tr>\n",
              "      <th>payment</th>\n",
              "      <td>0</td>\n",
              "    </tr>\n",
              "    <tr>\n",
              "      <th>pickup_zone</th>\n",
              "      <td>25</td>\n",
              "    </tr>\n",
              "    <tr>\n",
              "      <th>dropoff_zone</th>\n",
              "      <td>44</td>\n",
              "    </tr>\n",
              "    <tr>\n",
              "      <th>pickup_borough</th>\n",
              "      <td>25</td>\n",
              "    </tr>\n",
              "    <tr>\n",
              "      <th>dropoff_borough</th>\n",
              "      <td>44</td>\n",
              "    </tr>\n",
              "  </tbody>\n",
              "</table>\n",
              "</div><br><label><b>dtype:</b> int64</label>"
            ]
          },
          "metadata": {},
          "execution_count": 141
        }
      ],
      "source": [
        "# Write code here\n",
        "df.isnull().sum()"
      ]
    },
    {
      "cell_type": "markdown",
      "id": "8236d9c3-a9b6-48a2-bfda-155bcb2bfe32",
      "metadata": {
        "id": "8236d9c3-a9b6-48a2-bfda-155bcb2bfe32"
      },
      "source": [
        "What are the different forms of payment?"
      ]
    },
    {
      "cell_type": "code",
      "execution_count": 142,
      "id": "21973613-ec9e-4f42-86f4-46de669afdbd",
      "metadata": {
        "id": "21973613-ec9e-4f42-86f4-46de669afdbd",
        "colab": {
          "base_uri": "https://localhost:8080/"
        },
        "outputId": "55f10129-0ea4-4aac-b103-c11b2ddf5b4e"
      },
      "outputs": [
        {
          "output_type": "execute_result",
          "data": {
            "text/plain": [
              "array(['credit card', 'cash'], dtype=object)"
            ]
          },
          "metadata": {},
          "execution_count": 142
        }
      ],
      "source": [
        "# Write code here\n",
        "df['payment'].unique()"
      ]
    },
    {
      "cell_type": "markdown",
      "id": "a9eeef75-fe06-474b-beb5-52e33ab0eef2",
      "metadata": {
        "id": "a9eeef75-fe06-474b-beb5-52e33ab0eef2"
      },
      "source": [
        "Create a countplot to visualize how many taxi trips were payed for via each form of payment."
      ]
    },
    {
      "cell_type": "code",
      "execution_count": 144,
      "id": "07185334-1be2-4d41-b3d3-17a93ebb90a6",
      "metadata": {
        "id": "07185334-1be2-4d41-b3d3-17a93ebb90a6",
        "colab": {
          "base_uri": "https://localhost:8080/",
          "height": 467
        },
        "outputId": "b9df16dc-0bc6-45f0-8a3a-d5df790e834a"
      },
      "outputs": [
        {
          "output_type": "execute_result",
          "data": {
            "text/plain": [
              "<Axes: xlabel='payment', ylabel='count'>"
            ]
          },
          "metadata": {},
          "execution_count": 144
        },
        {
          "output_type": "display_data",
          "data": {
            "text/plain": [
              "<Figure size 640x480 with 1 Axes>"
            ],
            "image/png": "[encoded data removed]"
          },
          "metadata": {}
        }
      ],
      "source": [
        "# Write code here\n",
        "sns.countplot(x='payment',data=df)"
      ]
    },
    {
      "cell_type": "markdown",
      "id": "69dc31f0-5d02-4f68-9b5c-8ebbba7e99bf",
      "metadata": {
        "id": "69dc31f0-5d02-4f68-9b5c-8ebbba7e99bf"
      },
      "source": [
        "From the visualization, what can you tell about the distribution of taxi trips across payment form?"
      ]
    },
    {
      "cell_type": "markdown",
      "id": "0c853722-7f63-4dad-a8e6-04b9d404d0f9",
      "metadata": {
        "id": "0c853722-7f63-4dad-a8e6-04b9d404d0f9"
      },
      "source": [
        "Write response here"
      ]
    },
    {
      "cell_type": "markdown",
      "source": [
        "From the visualisation above, the distribution indicates that, the use of credit cards were high than the use of cash."
      ],
      "metadata": {
        "id": "vxSuzvZ51rRG"
      },
      "id": "vxSuzvZ51rRG"
    },
    {
      "cell_type": "markdown",
      "id": "19146dad-e0de-4049-adbf-2c21c54ebbb7",
      "metadata": {
        "id": "19146dad-e0de-4049-adbf-2c21c54ebbb7"
      },
      "source": [
        "How many taxi trips were payed for via each form of payment?"
      ]
    },
    {
      "cell_type": "code",
      "execution_count": 145,
      "id": "ef51cd17-48b5-433a-9bfa-da2b37640249",
      "metadata": {
        "id": "ef51cd17-48b5-433a-9bfa-da2b37640249",
        "colab": {
          "base_uri": "https://localhost:8080/",
          "height": 178
        },
        "outputId": "161e2fca-735b-461f-b956-0c52723b7925"
      },
      "outputs": [
        {
          "output_type": "execute_result",
          "data": {
            "text/plain": [
              "payment\n",
              "credit card    4577\n",
              "cash           1812\n",
              "Name: count, dtype: int64"
            ],
            "text/html": [
              "<div>\n",
              "<style scoped>\n",
              "    .dataframe tbody tr th:only-of-type {\n",
              "        vertical-align: middle;\n",
              "    }\n",
              "\n",
              "    .dataframe tbody tr th {\n",
              "        vertical-align: top;\n",
              "    }\n",
              "\n",
              "    .dataframe thead th {\n",
              "        text-align: right;\n",
              "    }\n",
              "</style>\n",
              "<table border=\"1\" class=\"dataframe\">\n",
              "  <thead>\n",
              "    <tr style=\"text-align: right;\">\n",
              "      <th></th>\n",
              "      <th>count</th>\n",
              "    </tr>\n",
              "    <tr>\n",
              "      <th>payment</th>\n",
              "      <th></th>\n",
              "    </tr>\n",
              "  </thead>\n",
              "  <tbody>\n",
              "    <tr>\n",
              "      <th>credit card</th>\n",
              "      <td>4577</td>\n",
              "    </tr>\n",
              "    <tr>\n",
              "      <th>cash</th>\n",
              "      <td>1812</td>\n",
              "    </tr>\n",
              "  </tbody>\n",
              "</table>\n",
              "</div><br><label><b>dtype:</b> int64</label>"
            ]
          },
          "metadata": {},
          "execution_count": 145
        }
      ],
      "source": [
        "# Write code here\n",
        "df['payment'].value_counts()"
      ]
    },
    {
      "cell_type": "markdown",
      "id": "2244e460-607e-43d2-a8fa-0e82bcd56ccf",
      "metadata": {
        "id": "2244e460-607e-43d2-a8fa-0e82bcd56ccf"
      },
      "source": [
        "Drop rows where there is a missing value in the \"pickup_borough\" column."
      ]
    },
    {
      "cell_type": "code",
      "execution_count": 147,
      "id": "cdbbe345-dcb0-45b2-a495-3578e3c2445e",
      "metadata": {
        "id": "cdbbe345-dcb0-45b2-a495-3578e3c2445e"
      },
      "outputs": [],
      "source": [
        "# Write code here\n",
        "df.dropna(subset=['pickup_borough'],inplace=True)"
      ]
    },
    {
      "cell_type": "markdown",
      "id": "bfd484e0-79f3-414c-9f1c-28f9183ac3be",
      "metadata": {
        "id": "bfd484e0-79f3-414c-9f1c-28f9183ac3be"
      },
      "source": [
        "Confirm that there are no missing values in the \"pickup_borough\" column now."
      ]
    },
    {
      "cell_type": "code",
      "execution_count": 148,
      "id": "550a64d7-942e-4038-964a-bcd60177906a",
      "metadata": {
        "id": "550a64d7-942e-4038-964a-bcd60177906a",
        "colab": {
          "base_uri": "https://localhost:8080/",
          "height": 523
        },
        "outputId": "46c723e3-b60d-4342-c405-c2c5dae9b47d"
      },
      "outputs": [
        {
          "output_type": "execute_result",
          "data": {
            "text/plain": [
              "pickup              0\n",
              "dropoff             0\n",
              "passengers          0\n",
              "distance            0\n",
              "fare                0\n",
              "tip                 0\n",
              "tolls               0\n",
              "total               0\n",
              "color               0\n",
              "payment             0\n",
              "pickup_zone         0\n",
              "dropoff_zone       23\n",
              "pickup_borough      0\n",
              "dropoff_borough    23\n",
              "dtype: int64"
            ],
            "text/html": [
              "<div>\n",
              "<style scoped>\n",
              "    .dataframe tbody tr th:only-of-type {\n",
              "        vertical-align: middle;\n",
              "    }\n",
              "\n",
              "    .dataframe tbody tr th {\n",
              "        vertical-align: top;\n",
              "    }\n",
              "\n",
              "    .dataframe thead th {\n",
              "        text-align: right;\n",
              "    }\n",
              "</style>\n",
              "<table border=\"1\" class=\"dataframe\">\n",
              "  <thead>\n",
              "    <tr style=\"text-align: right;\">\n",
              "      <th></th>\n",
              "      <th>0</th>\n",
              "    </tr>\n",
              "  </thead>\n",
              "  <tbody>\n",
              "    <tr>\n",
              "      <th>pickup</th>\n",
              "      <td>0</td>\n",
              "    </tr>\n",
              "    <tr>\n",
              "      <th>dropoff</th>\n",
              "      <td>0</td>\n",
              "    </tr>\n",
              "    <tr>\n",
              "      <th>passengers</th>\n",
              "      <td>0</td>\n",
              "    </tr>\n",
              "    <tr>\n",
              "      <th>distance</th>\n",
              "      <td>0</td>\n",
              "    </tr>\n",
              "    <tr>\n",
              "      <th>fare</th>\n",
              "      <td>0</td>\n",
              "    </tr>\n",
              "    <tr>\n",
              "      <th>tip</th>\n",
              "      <td>0</td>\n",
              "    </tr>\n",
              "    <tr>\n",
              "      <th>tolls</th>\n",
              "      <td>0</td>\n",
              "    </tr>\n",
              "    <tr>\n",
              "      <th>total</th>\n",
              "      <td>0</td>\n",
              "    </tr>\n",
              "    <tr>\n",
              "      <th>color</th>\n",
              "      <td>0</td>\n",
              "    </tr>\n",
              "    <tr>\n",
              "      <th>payment</th>\n",
              "      <td>0</td>\n",
              "    </tr>\n",
              "    <tr>\n",
              "      <th>pickup_zone</th>\n",
              "      <td>0</td>\n",
              "    </tr>\n",
              "    <tr>\n",
              "      <th>dropoff_zone</th>\n",
              "      <td>23</td>\n",
              "    </tr>\n",
              "    <tr>\n",
              "      <th>pickup_borough</th>\n",
              "      <td>0</td>\n",
              "    </tr>\n",
              "    <tr>\n",
              "      <th>dropoff_borough</th>\n",
              "      <td>23</td>\n",
              "    </tr>\n",
              "  </tbody>\n",
              "</table>\n",
              "</div><br><label><b>dtype:</b> int64</label>"
            ]
          },
          "metadata": {},
          "execution_count": 148
        }
      ],
      "source": [
        "# Write code here\n",
        "df.isnull().sum()"
      ]
    },
    {
      "cell_type": "markdown",
      "id": "07a33db7-e2b7-4c20-a172-c028deffbe11",
      "metadata": {
        "id": "07a33db7-e2b7-4c20-a172-c028deffbe11"
      },
      "source": [
        "What are the different boroughs from which taxi pickups occur according to the dataset?"
      ]
    },
    {
      "cell_type": "code",
      "execution_count": 149,
      "id": "9a1e0706-ca45-4bd4-89d5-1f3c0de8591f",
      "metadata": {
        "id": "9a1e0706-ca45-4bd4-89d5-1f3c0de8591f",
        "colab": {
          "base_uri": "https://localhost:8080/"
        },
        "outputId": "2d397aa4-d4d9-4c76-abd4-816c2d069eae"
      },
      "outputs": [
        {
          "output_type": "execute_result",
          "data": {
            "text/plain": [
              "array(['Manhattan', 'Queens', 'Bronx', 'Brooklyn'], dtype=object)"
            ]
          },
          "metadata": {},
          "execution_count": 149
        }
      ],
      "source": [
        "# Write code here\n",
        "df['pickup_borough'].unique()"
      ]
    },
    {
      "cell_type": "markdown",
      "id": "c66b81ab-b015-4091-ab43-9f3826317d1f",
      "metadata": {
        "id": "c66b81ab-b015-4091-ab43-9f3826317d1f"
      },
      "source": [
        "Create a countplot to visualize the distribution of taxi pickups across borough."
      ]
    },
    {
      "cell_type": "code",
      "execution_count": 150,
      "id": "7f30ef37-843f-4e15-b286-b81be4f0c01b",
      "metadata": {
        "id": "7f30ef37-843f-4e15-b286-b81be4f0c01b",
        "colab": {
          "base_uri": "https://localhost:8080/",
          "height": 468
        },
        "outputId": "5dbeee17-62c3-4622-8e26-377114c1c7d2"
      },
      "outputs": [
        {
          "output_type": "execute_result",
          "data": {
            "text/plain": [
              "<Axes: xlabel='pickup_borough', ylabel='count'>"
            ]
          },
          "metadata": {},
          "execution_count": 150
        },
        {
          "output_type": "display_data",
          "data": {
            "text/plain": [
              "<Figure size 640x480 with 1 Axes>"
            ],
            "image/png": "[encoded data removed]"
          },
          "metadata": {}
        }
      ],
      "source": [
        "# Write code here\n",
        "sns.countplot(x='pickup_borough',data=df)"
      ]
    },
    {
      "cell_type": "markdown",
      "id": "27b90607-4439-4362-8391-6f132abdf993",
      "metadata": {
        "id": "27b90607-4439-4362-8391-6f132abdf993"
      },
      "source": [
        "Drop rows where there is a missing value in the \"dropoff_borough\" column."
      ]
    },
    {
      "cell_type": "code",
      "execution_count": 151,
      "id": "b5507d64-3ad5-4d5b-be39-ead5ea569f2d",
      "metadata": {
        "id": "b5507d64-3ad5-4d5b-be39-ead5ea569f2d"
      },
      "outputs": [],
      "source": [
        "# Write code here\n",
        "df.dropna(subset=['dropoff_borough'],inplace=True)"
      ]
    },
    {
      "cell_type": "markdown",
      "id": "dc0b858e-55c5-44dd-88bc-3a2b624125dc",
      "metadata": {
        "id": "dc0b858e-55c5-44dd-88bc-3a2b624125dc"
      },
      "source": [
        "Confirm that there are no missing values in the \"dropoff_borough\" column now."
      ]
    },
    {
      "cell_type": "code",
      "execution_count": 152,
      "id": "52849059-6a51-42ee-a296-c0acfa617285",
      "metadata": {
        "id": "52849059-6a51-42ee-a296-c0acfa617285",
        "colab": {
          "base_uri": "https://localhost:8080/",
          "height": 523
        },
        "outputId": "5523446d-84e8-42ff-cb58-b118b19d8c60"
      },
      "outputs": [
        {
          "output_type": "execute_result",
          "data": {
            "text/plain": [
              "pickup             0\n",
              "dropoff            0\n",
              "passengers         0\n",
              "distance           0\n",
              "fare               0\n",
              "tip                0\n",
              "tolls              0\n",
              "total              0\n",
              "color              0\n",
              "payment            0\n",
              "pickup_zone        0\n",
              "dropoff_zone       0\n",
              "pickup_borough     0\n",
              "dropoff_borough    0\n",
              "dtype: int64"
            ],
            "text/html": [
              "<div>\n",
              "<style scoped>\n",
              "    .dataframe tbody tr th:only-of-type {\n",
              "        vertical-align: middle;\n",
              "    }\n",
              "\n",
              "    .dataframe tbody tr th {\n",
              "        vertical-align: top;\n",
              "    }\n",
              "\n",
              "    .dataframe thead th {\n",
              "        text-align: right;\n",
              "    }\n",
              "</style>\n",
              "<table border=\"1\" class=\"dataframe\">\n",
              "  <thead>\n",
              "    <tr style=\"text-align: right;\">\n",
              "      <th></th>\n",
              "      <th>0</th>\n",
              "    </tr>\n",
              "  </thead>\n",
              "  <tbody>\n",
              "    <tr>\n",
              "      <th>pickup</th>\n",
              "      <td>0</td>\n",
              "    </tr>\n",
              "    <tr>\n",
              "      <th>dropoff</th>\n",
              "      <td>0</td>\n",
              "    </tr>\n",
              "    <tr>\n",
              "      <th>passengers</th>\n",
              "      <td>0</td>\n",
              "    </tr>\n",
              "    <tr>\n",
              "      <th>distance</th>\n",
              "      <td>0</td>\n",
              "    </tr>\n",
              "    <tr>\n",
              "      <th>fare</th>\n",
              "      <td>0</td>\n",
              "    </tr>\n",
              "    <tr>\n",
              "      <th>tip</th>\n",
              "      <td>0</td>\n",
              "    </tr>\n",
              "    <tr>\n",
              "      <th>tolls</th>\n",
              "      <td>0</td>\n",
              "    </tr>\n",
              "    <tr>\n",
              "      <th>total</th>\n",
              "      <td>0</td>\n",
              "    </tr>\n",
              "    <tr>\n",
              "      <th>color</th>\n",
              "      <td>0</td>\n",
              "    </tr>\n",
              "    <tr>\n",
              "      <th>payment</th>\n",
              "      <td>0</td>\n",
              "    </tr>\n",
              "    <tr>\n",
              "      <th>pickup_zone</th>\n",
              "      <td>0</td>\n",
              "    </tr>\n",
              "    <tr>\n",
              "      <th>dropoff_zone</th>\n",
              "      <td>0</td>\n",
              "    </tr>\n",
              "    <tr>\n",
              "      <th>pickup_borough</th>\n",
              "      <td>0</td>\n",
              "    </tr>\n",
              "    <tr>\n",
              "      <th>dropoff_borough</th>\n",
              "      <td>0</td>\n",
              "    </tr>\n",
              "  </tbody>\n",
              "</table>\n",
              "</div><br><label><b>dtype:</b> int64</label>"
            ]
          },
          "metadata": {},
          "execution_count": 152
        }
      ],
      "source": [
        "# Write code here\n",
        "df.isnull().sum()"
      ]
    },
    {
      "cell_type": "markdown",
      "id": "86b47b9b-8a5a-4052-a882-a0144bce4ee0",
      "metadata": {
        "id": "86b47b9b-8a5a-4052-a882-a0144bce4ee0"
      },
      "source": [
        "How many taxi trips did dropoffs in each borough?"
      ]
    },
    {
      "cell_type": "code",
      "execution_count": 153,
      "id": "88889bf1-efac-4b24-af77-269822f5c6f3",
      "metadata": {
        "id": "88889bf1-efac-4b24-af77-269822f5c6f3",
        "colab": {
          "base_uri": "https://localhost:8080/",
          "height": 272
        },
        "outputId": "bb835ec7-b607-4888-f613-7f646a85c3e0"
      },
      "outputs": [
        {
          "output_type": "execute_result",
          "data": {
            "text/plain": [
              "dropoff_borough\n",
              "Manhattan        5172\n",
              "Queens            534\n",
              "Brooklyn          497\n",
              "Bronx             136\n",
              "Staten Island       2\n",
              "Name: count, dtype: int64"
            ],
            "text/html": [
              "<div>\n",
              "<style scoped>\n",
              "    .dataframe tbody tr th:only-of-type {\n",
              "        vertical-align: middle;\n",
              "    }\n",
              "\n",
              "    .dataframe tbody tr th {\n",
              "        vertical-align: top;\n",
              "    }\n",
              "\n",
              "    .dataframe thead th {\n",
              "        text-align: right;\n",
              "    }\n",
              "</style>\n",
              "<table border=\"1\" class=\"dataframe\">\n",
              "  <thead>\n",
              "    <tr style=\"text-align: right;\">\n",
              "      <th></th>\n",
              "      <th>count</th>\n",
              "    </tr>\n",
              "    <tr>\n",
              "      <th>dropoff_borough</th>\n",
              "      <th></th>\n",
              "    </tr>\n",
              "  </thead>\n",
              "  <tbody>\n",
              "    <tr>\n",
              "      <th>Manhattan</th>\n",
              "      <td>5172</td>\n",
              "    </tr>\n",
              "    <tr>\n",
              "      <th>Queens</th>\n",
              "      <td>534</td>\n",
              "    </tr>\n",
              "    <tr>\n",
              "      <th>Brooklyn</th>\n",
              "      <td>497</td>\n",
              "    </tr>\n",
              "    <tr>\n",
              "      <th>Bronx</th>\n",
              "      <td>136</td>\n",
              "    </tr>\n",
              "    <tr>\n",
              "      <th>Staten Island</th>\n",
              "      <td>2</td>\n",
              "    </tr>\n",
              "  </tbody>\n",
              "</table>\n",
              "</div><br><label><b>dtype:</b> int64</label>"
            ]
          },
          "metadata": {},
          "execution_count": 153
        }
      ],
      "source": [
        "# Write code here\n",
        "df['dropoff_borough'].value_counts()"
      ]
    },
    {
      "cell_type": "markdown",
      "id": "a68585f9-5fa6-4798-a9a1-ac9ce208f32f",
      "metadata": {
        "id": "a68585f9-5fa6-4798-a9a1-ac9ce208f32f"
      },
      "source": [
        "What are the different boroughs from which taxi dropoffs occur according to the dataset?"
      ]
    },
    {
      "cell_type": "code",
      "execution_count": 154,
      "id": "20ab5510-31f6-4398-9f59-3d7f60c8a001",
      "metadata": {
        "id": "20ab5510-31f6-4398-9f59-3d7f60c8a001",
        "colab": {
          "base_uri": "https://localhost:8080/"
        },
        "outputId": "bf78f36b-7e14-44f0-956a-8c4d1807ede1"
      },
      "outputs": [
        {
          "output_type": "execute_result",
          "data": {
            "text/plain": [
              "array(['Manhattan', 'Queens', 'Brooklyn', 'Bronx', 'Staten Island'],\n",
              "      dtype=object)"
            ]
          },
          "metadata": {},
          "execution_count": 154
        }
      ],
      "source": [
        "# Write code here\n",
        "df['dropoff_borough'].unique()"
      ]
    },
    {
      "cell_type": "markdown",
      "id": "f61e1807-1b51-4741-8545-ab63a16adef1",
      "metadata": {
        "id": "f61e1807-1b51-4741-8545-ab63a16adef1"
      },
      "source": [
        "Create a countplot to visualize the distribution of taxi dropoffs across borough."
      ]
    },
    {
      "cell_type": "code",
      "execution_count": 155,
      "id": "b4ab290b-6bee-4f1e-a904-5be2c0625461",
      "metadata": {
        "id": "b4ab290b-6bee-4f1e-a904-5be2c0625461",
        "colab": {
          "base_uri": "https://localhost:8080/",
          "height": 468
        },
        "outputId": "fa9381ad-3425-4fd7-ac11-376f2278ea9e"
      },
      "outputs": [
        {
          "output_type": "execute_result",
          "data": {
            "text/plain": [
              "<Axes: xlabel='dropoff_borough', ylabel='count'>"
            ]
          },
          "metadata": {},
          "execution_count": 155
        },
        {
          "output_type": "display_data",
          "data": {
            "text/plain": [
              "<Figure size 640x480 with 1 Axes>"
            ],
            "image/png": "[encoded data removed]"
          },
          "metadata": {}
        }
      ],
      "source": [
        "# Write code here\n",
        "sns.countplot(x='dropoff_borough',data=df)"
      ]
    },
    {
      "cell_type": "markdown",
      "id": "89c4f50e-7e57-4ff1-9247-add4e202da7d",
      "metadata": {
        "id": "89c4f50e-7e57-4ff1-9247-add4e202da7d"
      },
      "source": [
        "How many taxi trips did pickups in each borough?"
      ]
    },
    {
      "cell_type": "code",
      "execution_count": 156,
      "id": "060cad73-e727-42a2-97ea-909c18159acc",
      "metadata": {
        "id": "060cad73-e727-42a2-97ea-909c18159acc",
        "colab": {
          "base_uri": "https://localhost:8080/",
          "height": 241
        },
        "outputId": "054b2736-bebc-4493-8e3f-41230fd7aba3"
      },
      "outputs": [
        {
          "output_type": "execute_result",
          "data": {
            "text/plain": [
              "pickup_borough\n",
              "Manhattan    5226\n",
              "Queens        638\n",
              "Brooklyn      378\n",
              "Bronx          99\n",
              "Name: count, dtype: int64"
            ],
            "text/html": [
              "<div>\n",
              "<style scoped>\n",
              "    .dataframe tbody tr th:only-of-type {\n",
              "        vertical-align: middle;\n",
              "    }\n",
              "\n",
              "    .dataframe tbody tr th {\n",
              "        vertical-align: top;\n",
              "    }\n",
              "\n",
              "    .dataframe thead th {\n",
              "        text-align: right;\n",
              "    }\n",
              "</style>\n",
              "<table border=\"1\" class=\"dataframe\">\n",
              "  <thead>\n",
              "    <tr style=\"text-align: right;\">\n",
              "      <th></th>\n",
              "      <th>count</th>\n",
              "    </tr>\n",
              "    <tr>\n",
              "      <th>pickup_borough</th>\n",
              "      <th></th>\n",
              "    </tr>\n",
              "  </thead>\n",
              "  <tbody>\n",
              "    <tr>\n",
              "      <th>Manhattan</th>\n",
              "      <td>5226</td>\n",
              "    </tr>\n",
              "    <tr>\n",
              "      <th>Queens</th>\n",
              "      <td>638</td>\n",
              "    </tr>\n",
              "    <tr>\n",
              "      <th>Brooklyn</th>\n",
              "      <td>378</td>\n",
              "    </tr>\n",
              "    <tr>\n",
              "      <th>Bronx</th>\n",
              "      <td>99</td>\n",
              "    </tr>\n",
              "  </tbody>\n",
              "</table>\n",
              "</div><br><label><b>dtype:</b> int64</label>"
            ]
          },
          "metadata": {},
          "execution_count": 156
        }
      ],
      "source": [
        "# Write code here\n",
        "df['pickup_borough'].value_counts()"
      ]
    },
    {
      "cell_type": "markdown",
      "id": "6c55bede-eb3e-4e2b-be9f-51ac2b7a0966",
      "metadata": {
        "id": "6c55bede-eb3e-4e2b-be9f-51ac2b7a0966"
      },
      "source": [
        "Create a subset that only includes taxi trips that picked up passengers in the Brooklyn borough."
      ]
    },
    {
      "cell_type": "code",
      "execution_count": 157,
      "id": "19f88225-1c11-41c2-98c5-c538e128e7b2",
      "metadata": {
        "id": "19f88225-1c11-41c2-98c5-c538e128e7b2"
      },
      "outputs": [],
      "source": [
        "# Write code here\n",
        "df_bk=df[df['pickup_borough']=='Brooklyn']"
      ]
    },
    {
      "cell_type": "markdown",
      "id": "59fc2347-e4b6-4d2e-b2d9-b746738767a9",
      "metadata": {
        "id": "59fc2347-e4b6-4d2e-b2d9-b746738767a9"
      },
      "source": [
        "Take a look at the subset."
      ]
    },
    {
      "cell_type": "code",
      "execution_count": 158,
      "id": "a9f0927e-b2d9-40c7-b9c2-d77cdce19056",
      "metadata": {
        "id": "a9f0927e-b2d9-40c7-b9c2-d77cdce19056",
        "colab": {
          "base_uri": "https://localhost:8080/",
          "height": 313
        },
        "outputId": "d7f8b1c5-b9de-47ee-b315-618a636e7aac"
      },
      "outputs": [
        {
          "output_type": "execute_result",
          "data": {
            "text/plain": [
              "              pickup          dropoff  passengers  distance  fare   tip  \\\n",
              "114   3/5/2019 12:17   3/5/2019 12:36           1      5.98  19.0  5.58   \n",
              "155  3/21/2019 22:49  3/21/2019 22:55           1      1.03   6.0  1.46   \n",
              "214  3/22/2019 22:40  3/22/2019 22:55           1      2.75  12.5  0.00   \n",
              "266  3/26/2019 21:42  3/26/2019 22:05           2      4.40  17.5  3.76   \n",
              "332   3/16/2019 1:14   3/16/2019 1:26           1      2.60  11.0  0.00   \n",
              "\n",
              "     tolls  total   color      payment          pickup_zone  \\\n",
              "114    0.0  27.88  yellow  credit card     Brooklyn Heights   \n",
              "155    0.0   8.76  yellow  credit card   DUMBO/Vinegar Hill   \n",
              "214    0.0  13.80  yellow         cash   Stuyvesant Heights   \n",
              "266    0.0  22.56  yellow  credit card          Fort Greene   \n",
              "332    0.0  12.30  yellow         cash  Crown Heights North   \n",
              "\n",
              "            dropoff_zone pickup_borough dropoff_borough  \n",
              "114          Murray Hill       Brooklyn       Manhattan  \n",
              "155     Brooklyn Heights       Brooklyn        Brooklyn  \n",
              "214  Crown Heights North       Brooklyn        Brooklyn  \n",
              "266        Cypress Hills       Brooklyn        Brooklyn  \n",
              "332  Crown Heights South       Brooklyn        Brooklyn  "
            ],
            "text/html": [
              "\n",
              "  <div id=\"df-d3cc909e-3f20-4c52-bc8e-cd93a24f2b9a\" class=\"colab-df-container\">\n",
              "    <div>\n",
              "<style scoped>\n",
              "    .dataframe tbody tr th:only-of-type {\n",
              "        vertical-align: middle;\n",
              "    }\n",
              "\n",
              "    .dataframe tbody tr th {\n",
              "        vertical-align: top;\n",
              "    }\n",
              "\n",
              "    .dataframe thead th {\n",
              "        text-align: right;\n",
              "    }\n",
              "</style>\n",
              "<table border=\"1\" class=\"dataframe\">\n",
              "  <thead>\n",
              "    <tr style=\"text-align: right;\">\n",
              "      <th></th>\n",
              "      <th>pickup</th>\n",
              "      <th>dropoff</th>\n",
              "      <th>passengers</th>\n",
              "      <th>distance</th>\n",
              "      <th>fare</th>\n",
              "      <th>tip</th>\n",
              "      <th>tolls</th>\n",
              "      <th>total</th>\n",
              "      <th>color</th>\n",
              "      <th>payment</th>\n",
              "      <th>pickup_zone</th>\n",
              "      <th>dropoff_zone</th>\n",
              "      <th>pickup_borough</th>\n",
              "      <th>dropoff_borough</th>\n",
              "    </tr>\n",
              "  </thead>\n",
              "  <tbody>\n",
              "    <tr>\n",
              "      <th>114</th>\n",
              "      <td>3/5/2019 12:17</td>\n",
              "      <td>3/5/2019 12:36</td>\n",
              "      <td>1</td>\n",
              "      <td>5.98</td>\n",
              "      <td>19.0</td>\n",
              "      <td>5.58</td>\n",
              "      <td>0.0</td>\n",
              "      <td>27.88</td>\n",
              "      <td>yellow</td>\n",
              "      <td>credit card</td>\n",
              "      <td>Brooklyn Heights</td>\n",
              "      <td>Murray Hill</td>\n",
              "      <td>Brooklyn</td>\n",
              "      <td>Manhattan</td>\n",
              "    </tr>\n",
              "    <tr>\n",
              "      <th>155</th>\n",
              "      <td>3/21/2019 22:49</td>\n",
              "      <td>3/21/2019 22:55</td>\n",
              "      <td>1</td>\n",
              "      <td>1.03</td>\n",
              "      <td>6.0</td>\n",
              "      <td>1.46</td>\n",
              "      <td>0.0</td>\n",
              "      <td>8.76</td>\n",
              "      <td>yellow</td>\n",
              "      <td>credit card</td>\n",
              "      <td>DUMBO/Vinegar Hill</td>\n",
              "      <td>Brooklyn Heights</td>\n",
              "      <td>Brooklyn</td>\n",
              "      <td>Brooklyn</td>\n",
              "    </tr>\n",
              "    <tr>\n",
              "      <th>214</th>\n",
              "      <td>3/22/2019 22:40</td>\n",
              "      <td>3/22/2019 22:55</td>\n",
              "      <td>1</td>\n",
              "      <td>2.75</td>\n",
              "      <td>12.5</td>\n",
              "      <td>0.00</td>\n",
              "      <td>0.0</td>\n",
              "      <td>13.80</td>\n",
              "      <td>yellow</td>\n",
              "      <td>cash</td>\n",
              "      <td>Stuyvesant Heights</td>\n",
              "      <td>Crown Heights North</td>\n",
              "      <td>Brooklyn</td>\n",
              "      <td>Brooklyn</td>\n",
              "    </tr>\n",
              "    <tr>\n",
              "      <th>266</th>\n",
              "      <td>3/26/2019 21:42</td>\n",
              "      <td>3/26/2019 22:05</td>\n",
              "      <td>2</td>\n",
              "      <td>4.40</td>\n",
              "      <td>17.5</td>\n",
              "      <td>3.76</td>\n",
              "      <td>0.0</td>\n",
              "      <td>22.56</td>\n",
              "      <td>yellow</td>\n",
              "      <td>credit card</td>\n",
              "      <td>Fort Greene</td>\n",
              "      <td>Cypress Hills</td>\n",
              "      <td>Brooklyn</td>\n",
              "      <td>Brooklyn</td>\n",
              "    </tr>\n",
              "    <tr>\n",
              "      <th>332</th>\n",
              "      <td>3/16/2019 1:14</td>\n",
              "      <td>3/16/2019 1:26</td>\n",
              "      <td>1</td>\n",
              "      <td>2.60</td>\n",
              "      <td>11.0</td>\n",
              "      <td>0.00</td>\n",
              "      <td>0.0</td>\n",
              "      <td>12.30</td>\n",
              "      <td>yellow</td>\n",
              "      <td>cash</td>\n",
              "      <td>Crown Heights North</td>\n",
              "      <td>Crown Heights South</td>\n",
              "      <td>Brooklyn</td>\n",
              "      <td>Brooklyn</td>\n",
              "    </tr>\n",
              "  </tbody>\n",
              "</table>\n",
              "</div>\n",
              "    <div class=\"colab-df-buttons\">\n",
              "\n",
              "  <div class=\"colab-df-container\">\n",
              "    <button class=\"colab-df-convert\" onclick=\"convertToInteractive('df-d3cc909e-3f20-4c52-bc8e-cd93a24f2b9a')\"\n",
              "            title=\"Convert this dataframe to an interactive table.\"\n",
              "            style=\"display:none;\">\n",
              "\n",
              "  <svg xmlns=\"http://www.w3.org/2000/svg\" height=\"24px\" viewBox=\"0 -960 960 960\">\n",
              "    <path d=\"M120-120v-720h720v720H120Zm60-500h600v-160H180v160Zm220 220h160v-160H400v160Zm0 220h160v-160H400v160ZM180-400h160v-160H180v160Zm440 0h160v-160H620v160ZM180-180h160v-160H180v160Zm440 0h160v-160H620v160Z\"/>\n",
              "  </svg>\n",
              "    </button>\n",
              "\n",
              "  <style>\n",
              "    .colab-df-container {\n",
              "      display:flex;\n",
              "      gap: 12px;\n",
              "    }\n",
              "\n",
              "    .colab-df-convert {\n",
              "      background-color: #E8F0FE;\n",
              "      border: none;\n",
              "      border-radius: 50%;\n",
              "      cursor: pointer;\n",
              "      display: none;\n",
              "      fill: #1967D2;\n",
              "      height: 32px;\n",
              "      padding: 0 0 0 0;\n",
              "      width: 32px;\n",
              "    }\n",
              "\n",
              "    .colab-df-convert:hover {\n",
              "      background-color: #E2EBFA;\n",
              "      box-shadow: 0px 1px 2px rgba(60, 64, 67, 0.3), 0px 1px 3px 1px rgba(60, 64, 67, 0.15);\n",
              "      fill: #174EA6;\n",
              "    }\n",
              "\n",
              "    .colab-df-buttons div {\n",
              "      margin-bottom: 4px;\n",
              "    }\n",
              "\n",
              "    [theme=dark] .colab-df-convert {\n",
              "      background-color: #3B4455;\n",
              "      fill: #D2E3FC;\n",
              "    }\n",
              "\n",
              "    [theme=dark] .colab-df-convert:hover {\n",
              "      background-color: #434B5C;\n",
              "      box-shadow: 0px 1px 3px 1px rgba(0, 0, 0, 0.15);\n",
              "      filter: drop-shadow(0px 1px 2px rgba(0, 0, 0, 0.3));\n",
              "      fill: #FFFFFF;\n",
              "    }\n",
              "  </style>\n",
              "\n",
              "    <script>\n",
              "      const buttonEl =\n",
              "        document.querySelector('#df-d3cc909e-3f20-4c52-bc8e-cd93a24f2b9a button.colab-df-convert');\n",
              "      buttonEl.style.display =\n",
              "        google.colab.kernel.accessAllowed ? 'block' : 'none';\n",
              "\n",
              "      async function convertToInteractive(key) {\n",
              "        const element = document.querySelector('#df-d3cc909e-3f20-4c52-bc8e-cd93a24f2b9a');\n",
              "        const dataTable =\n",
              "          await google.colab.kernel.invokeFunction('convertToInteractive',\n",
              "                                                    [key], {});\n",
              "        if (!dataTable) return;\n",
              "\n",
              "        const docLinkHtml = 'Like what you see? Visit the ' +\n",
              "          '<a target=\"_blank\" href=https://colab.research.google.com/notebooks/data_table.ipynb>data table notebook</a>'\n",
              "          + ' to learn more about interactive tables.';\n",
              "        element.innerHTML = '';\n",
              "        dataTable['output_type'] = 'display_data';\n",
              "        await google.colab.output.renderOutput(dataTable, element);\n",
              "        const docLink = document.createElement('div');\n",
              "        docLink.innerHTML = docLinkHtml;\n",
              "        element.appendChild(docLink);\n",
              "      }\n",
              "    </script>\n",
              "  </div>\n",
              "\n",
              "\n",
              "<div id=\"df-ebf798d9-3960-46e6-93e8-e5f7088b8482\">\n",
              "  <button class=\"colab-df-quickchart\" onclick=\"quickchart('df-ebf798d9-3960-46e6-93e8-e5f7088b8482')\"\n",
              "            title=\"Suggest charts\"\n",
              "            style=\"display:none;\">\n",
              "\n",
              "<svg xmlns=\"http://www.w3.org/2000/svg\" height=\"24px\"viewBox=\"0 0 24 24\"\n",
              "     width=\"24px\">\n",
              "    <g>\n",
              "        <path d=\"M19 3H5c-1.1 0-2 .9-2 2v14c0 1.1.9 2 2 2h14c1.1 0 2-.9 2-2V5c0-1.1-.9-2-2-2zM9 17H7v-7h2v7zm4 0h-2V7h2v10zm4 0h-2v-4h2v4z\"/>\n",
              "    </g>\n",
              "</svg>\n",
              "  </button>\n",
              "\n",
              "<style>\n",
              "  .colab-df-quickchart {\n",
              "      --bg-color: #E8F0FE;\n",
              "      --fill-color: #1967D2;\n",
              "      --hover-bg-color: #E2EBFA;\n",
              "      --hover-fill-color: #174EA6;\n",
              "      --disabled-fill-color: #AAA;\n",
              "      --disabled-bg-color: #DDD;\n",
              "  }\n",
              "\n",
              "  [theme=dark] .colab-df-quickchart {\n",
              "      --bg-color: #3B4455;\n",
              "      --fill-color: #D2E3FC;\n",
              "      --hover-bg-color: #434B5C;\n",
              "      --hover-fill-color: #FFFFFF;\n",
              "      --disabled-bg-color: #3B4455;\n",
              "      --disabled-fill-color: #666;\n",
              "  }\n",
              "\n",
              "  .colab-df-quickchart {\n",
              "    background-color: var(--bg-color);\n",
              "    border: none;\n",
              "    border-radius: 50%;\n",
              "    cursor: pointer;\n",
              "    display: none;\n",
              "    fill: var(--fill-color);\n",
              "    height: 32px;\n",
              "    padding: 0;\n",
              "    width: 32px;\n",
              "  }\n",
              "\n",
              "  .colab-df-quickchart:hover {\n",
              "    background-color: var(--hover-bg-color);\n",
              "    box-shadow: 0 1px 2px rgba(60, 64, 67, 0.3), 0 1px 3px 1px rgba(60, 64, 67, 0.15);\n",
              "    fill: var(--button-hover-fill-color);\n",
              "  }\n",
              "\n",
              "  .colab-df-quickchart-complete:disabled,\n",
              "  .colab-df-quickchart-complete:disabled:hover {\n",
              "    background-color: var(--disabled-bg-color);\n",
              "    fill: var(--disabled-fill-color);\n",
              "    box-shadow: none;\n",
              "  }\n",
              "\n",
              "  .colab-df-spinner {\n",
              "    border: 2px solid var(--fill-color);\n",
              "    border-color: transparent;\n",
              "    border-bottom-color: var(--fill-color);\n",
              "    animation:\n",
              "      spin 1s steps(1) infinite;\n",
              "  }\n",
              "\n",
              "  @keyframes spin {\n",
              "    0% {\n",
              "      border-color: transparent;\n",
              "      border-bottom-color: var(--fill-color);\n",
              "      border-left-color: var(--fill-color);\n",
              "    }\n",
              "    20% {\n",
              "      border-color: transparent;\n",
              "      border-left-color: var(--fill-color);\n",
              "      border-top-color: var(--fill-color);\n",
              "    }\n",
              "    30% {\n",
              "      border-color: transparent;\n",
              "      border-left-color: var(--fill-color);\n",
              "      border-top-color: var(--fill-color);\n",
              "      border-right-color: var(--fill-color);\n",
              "    }\n",
              "    40% {\n",
              "      border-color: transparent;\n",
              "      border-right-color: var(--fill-color);\n",
              "      border-top-color: var(--fill-color);\n",
              "    }\n",
              "    60% {\n",
              "      border-color: transparent;\n",
              "      border-right-color: var(--fill-color);\n",
              "    }\n",
              "    80% {\n",
              "      border-color: transparent;\n",
              "      border-right-color: var(--fill-color);\n",
              "      border-bottom-color: var(--fill-color);\n",
              "    }\n",
              "    90% {\n",
              "      border-color: transparent;\n",
              "      border-bottom-color: var(--fill-color);\n",
              "    }\n",
              "  }\n",
              "</style>\n",
              "\n",
              "  <script>\n",
              "    async function quickchart(key) {\n",
              "      const quickchartButtonEl =\n",
              "        document.querySelector('#' + key + ' button');\n",
              "      quickchartButtonEl.disabled = true;  // To prevent multiple clicks.\n",
              "      quickchartButtonEl.classList.add('colab-df-spinner');\n",
              "      try {\n",
              "        const charts = await google.colab.kernel.invokeFunction(\n",
              "            'suggestCharts', [key], {});\n",
              "      } catch (error) {\n",
              "        console.error('Error during call to suggestCharts:', error);\n",
              "      }\n",
              "      quickchartButtonEl.classList.remove('colab-df-spinner');\n",
              "      quickchartButtonEl.classList.add('colab-df-quickchart-complete');\n",
              "    }\n",
              "    (() => {\n",
              "      let quickchartButtonEl =\n",
              "        document.querySelector('#df-ebf798d9-3960-46e6-93e8-e5f7088b8482 button');\n",
              "      quickchartButtonEl.style.display =\n",
              "        google.colab.kernel.accessAllowed ? 'block' : 'none';\n",
              "    })();\n",
              "  </script>\n",
              "</div>\n",
              "\n",
              "    </div>\n",
              "  </div>\n"
            ],
            "application/vnd.google.colaboratory.intrinsic+json": {
              "type": "dataframe",
              "variable_name": "df_bk",
              "repr_error": "0"
            }
          },
          "metadata": {},
          "execution_count": 158
        }
      ],
      "source": [
        "# Write code here\n",
        "df_bk.head()"
      ]
    },
    {
      "cell_type": "markdown",
      "id": "cd9704d9-a9bb-4f6c-9c48-da545b301afc",
      "metadata": {
        "id": "cd9704d9-a9bb-4f6c-9c48-da545b301afc"
      },
      "source": [
        "How many rows in the subset?"
      ]
    },
    {
      "cell_type": "code",
      "execution_count": 159,
      "id": "530ec249-b16a-48b0-bdda-95d167495e3e",
      "metadata": {
        "id": "530ec249-b16a-48b0-bdda-95d167495e3e",
        "colab": {
          "base_uri": "https://localhost:8080/"
        },
        "outputId": "eb7e65f2-a8c7-464a-95ad-91b738892c8f"
      },
      "outputs": [
        {
          "output_type": "execute_result",
          "data": {
            "text/plain": [
              "378"
            ]
          },
          "metadata": {},
          "execution_count": 159
        }
      ],
      "source": [
        "# Write code here\n",
        "df_bk.shape[0]"
      ]
    },
    {
      "cell_type": "markdown",
      "id": "b8f2ad79-36a4-49ac-8848-8e3e872fe1f5",
      "metadata": {
        "id": "b8f2ad79-36a4-49ac-8848-8e3e872fe1f5"
      },
      "source": [
        "How many columns in the subset?"
      ]
    },
    {
      "cell_type": "code",
      "execution_count": 160,
      "id": "ab1e1ef2-c682-4f8b-a8b4-bd539b31d254",
      "metadata": {
        "id": "ab1e1ef2-c682-4f8b-a8b4-bd539b31d254",
        "colab": {
          "base_uri": "https://localhost:8080/"
        },
        "outputId": "2e19fd8f-0e50-4c01-98c3-7dc4adf831b6"
      },
      "outputs": [
        {
          "output_type": "execute_result",
          "data": {
            "text/plain": [
              "14"
            ]
          },
          "metadata": {},
          "execution_count": 160
        }
      ],
      "source": [
        "# Write code here\n",
        "df_bk.shape[1]"
      ]
    },
    {
      "cell_type": "markdown",
      "id": "558c8af7-8a45-42ed-ba8e-e0d7fb8ba823",
      "metadata": {
        "id": "558c8af7-8a45-42ed-ba8e-e0d7fb8ba823"
      },
      "source": [
        "What are the pickup zones in the pickup borough Brooklyn in order of most taxi trips to least taxi trips, along with the corresponding counts?"
      ]
    },
    {
      "cell_type": "code",
      "execution_count": 164,
      "id": "4f20593d-cbf3-4977-afea-e35c606af4f1",
      "metadata": {
        "id": "4f20593d-cbf3-4977-afea-e35c606af4f1",
        "colab": {
          "base_uri": "https://localhost:8080/",
          "height": 1000
        },
        "outputId": "a3779449-165e-4b33-ba58-0d8b109848be"
      },
      "outputs": [
        {
          "output_type": "execute_result",
          "data": {
            "text/plain": [
              "pickup_zone\n",
              "Fort Greene                     39\n",
              "Downtown Brooklyn/MetroTech     37\n",
              "Brooklyn Heights                34\n",
              "Park Slope                      22\n",
              "Boerum Hill                     20\n",
              "Williamsburg (North Side)       15\n",
              "DUMBO/Vinegar Hill              15\n",
              "Crown Heights North             12\n",
              "Williamsburg (South Side)       11\n",
              "Cobble Hill                     11\n",
              "East New York                    9\n",
              "Greenpoint                       9\n",
              "Bushwick South                   9\n",
              "Sheepshead Bay                   8\n",
              "Stuyvesant Heights               8\n",
              "East Flatbush/Farragut           7\n",
              "Carroll Gardens                  7\n",
              "Clinton Hill                     7\n",
              "Coney Island                     6\n",
              "Midwood                          6\n",
              "Starrett City                    6\n",
              "East Flatbush/Remsen Village     6\n",
              "East Williamsburg                5\n",
              "Bushwick North                   5\n",
              "Flatbush/Ditmas Park             4\n",
              "Brownsville                      4\n",
              "Prospect-Lefferts Gardens        4\n",
              "Gravesend                        4\n",
              "Erasmus                          4\n",
              "Flatlands                        4\n",
              "Windsor Terrace                  3\n",
              "Sunset Park West                 3\n",
              "Bay Ridge                        3\n",
              "Prospect Heights                 3\n",
              "Bedford                          3\n",
              "Crown Heights South              3\n",
              "Canarsie                         3\n",
              "Marine Park/Mill Basin           3\n",
              "Borough Park                     2\n",
              "Gowanus                          2\n",
              "Madison                          2\n",
              "South Williamsburg               2\n",
              "Prospect Park                    2\n",
              "Brighton Beach                   1\n",
              "Homecrest                        1\n",
              "Bensonhurst East                 1\n",
              "Dyker Heights                    1\n",
              "Bensonhurst West                 1\n",
              "Columbia Street                  1\n",
              "Name: count, dtype: int64"
            ],
            "text/html": [
              "<div>\n",
              "<style scoped>\n",
              "    .dataframe tbody tr th:only-of-type {\n",
              "        vertical-align: middle;\n",
              "    }\n",
              "\n",
              "    .dataframe tbody tr th {\n",
              "        vertical-align: top;\n",
              "    }\n",
              "\n",
              "    .dataframe thead th {\n",
              "        text-align: right;\n",
              "    }\n",
              "</style>\n",
              "<table border=\"1\" class=\"dataframe\">\n",
              "  <thead>\n",
              "    <tr style=\"text-align: right;\">\n",
              "      <th></th>\n",
              "      <th>count</th>\n",
              "    </tr>\n",
              "    <tr>\n",
              "      <th>pickup_zone</th>\n",
              "      <th></th>\n",
              "    </tr>\n",
              "  </thead>\n",
              "  <tbody>\n",
              "    <tr>\n",
              "      <th>Fort Greene</th>\n",
              "      <td>39</td>\n",
              "    </tr>\n",
              "    <tr>\n",
              "      <th>Downtown Brooklyn/MetroTech</th>\n",
              "      <td>37</td>\n",
              "    </tr>\n",
              "    <tr>\n",
              "      <th>Brooklyn Heights</th>\n",
              "      <td>34</td>\n",
              "    </tr>\n",
              "    <tr>\n",
              "      <th>Park Slope</th>\n",
              "      <td>22</td>\n",
              "    </tr>\n",
              "    <tr>\n",
              "      <th>Boerum Hill</th>\n",
              "      <td>20</td>\n",
              "    </tr>\n",
              "    <tr>\n",
              "      <th>Williamsburg (North Side)</th>\n",
              "      <td>15</td>\n",
              "    </tr>\n",
              "    <tr>\n",
              "      <th>DUMBO/Vinegar Hill</th>\n",
              "      <td>15</td>\n",
              "    </tr>\n",
              "    <tr>\n",
              "      <th>Crown Heights North</th>\n",
              "      <td>12</td>\n",
              "    </tr>\n",
              "    <tr>\n",
              "      <th>Williamsburg (South Side)</th>\n",
              "      <td>11</td>\n",
              "    </tr>\n",
              "    <tr>\n",
              "      <th>Cobble Hill</th>\n",
              "      <td>11</td>\n",
              "    </tr>\n",
              "    <tr>\n",
              "      <th>East New York</th>\n",
              "      <td>9</td>\n",
              "    </tr>\n",
              "    <tr>\n",
              "      <th>Greenpoint</th>\n",
              "      <td>9</td>\n",
              "    </tr>\n",
              "    <tr>\n",
              "      <th>Bushwick South</th>\n",
              "      <td>9</td>\n",
              "    </tr>\n",
              "    <tr>\n",
              "      <th>Sheepshead Bay</th>\n",
              "      <td>8</td>\n",
              "    </tr>\n",
              "    <tr>\n",
              "      <th>Stuyvesant Heights</th>\n",
              "      <td>8</td>\n",
              "    </tr>\n",
              "    <tr>\n",
              "      <th>East Flatbush/Farragut</th>\n",
              "      <td>7</td>\n",
              "    </tr>\n",
              "    <tr>\n",
              "      <th>Carroll Gardens</th>\n",
              "      <td>7</td>\n",
              "    </tr>\n",
              "    <tr>\n",
              "      <th>Clinton Hill</th>\n",
              "      <td>7</td>\n",
              "    </tr>\n",
              "    <tr>\n",
              "      <th>Coney Island</th>\n",
              "      <td>6</td>\n",
              "    </tr>\n",
              "    <tr>\n",
              "      <th>Midwood</th>\n",
              "      <td>6</td>\n",
              "    </tr>\n",
              "    <tr>\n",
              "      <th>Starrett City</th>\n",
              "      <td>6</td>\n",
              "    </tr>\n",
              "    <tr>\n",
              "      <th>East Flatbush/Remsen Village</th>\n",
              "      <td>6</td>\n",
              "    </tr>\n",
              "    <tr>\n",
              "      <th>East Williamsburg</th>\n",
              "      <td>5</td>\n",
              "    </tr>\n",
              "    <tr>\n",
              "      <th>Bushwick North</th>\n",
              "      <td>5</td>\n",
              "    </tr>\n",
              "    <tr>\n",
              "      <th>Flatbush/Ditmas Park</th>\n",
              "      <td>4</td>\n",
              "    </tr>\n",
              "    <tr>\n",
              "      <th>Brownsville</th>\n",
              "      <td>4</td>\n",
              "    </tr>\n",
              "    <tr>\n",
              "      <th>Prospect-Lefferts Gardens</th>\n",
              "      <td>4</td>\n",
              "    </tr>\n",
              "    <tr>\n",
              "      <th>Gravesend</th>\n",
              "      <td>4</td>\n",
              "    </tr>\n",
              "    <tr>\n",
              "      <th>Erasmus</th>\n",
              "      <td>4</td>\n",
              "    </tr>\n",
              "    <tr>\n",
              "      <th>Flatlands</th>\n",
              "      <td>4</td>\n",
              "    </tr>\n",
              "    <tr>\n",
              "      <th>Windsor Terrace</th>\n",
              "      <td>3</td>\n",
              "    </tr>\n",
              "    <tr>\n",
              "      <th>Sunset Park West</th>\n",
              "      <td>3</td>\n",
              "    </tr>\n",
              "    <tr>\n",
              "      <th>Bay Ridge</th>\n",
              "      <td>3</td>\n",
              "    </tr>\n",
              "    <tr>\n",
              "      <th>Prospect Heights</th>\n",
              "      <td>3</td>\n",
              "    </tr>\n",
              "    <tr>\n",
              "      <th>Bedford</th>\n",
              "      <td>3</td>\n",
              "    </tr>\n",
              "    <tr>\n",
              "      <th>Crown Heights South</th>\n",
              "      <td>3</td>\n",
              "    </tr>\n",
              "    <tr>\n",
              "      <th>Canarsie</th>\n",
              "      <td>3</td>\n",
              "    </tr>\n",
              "    <tr>\n",
              "      <th>Marine Park/Mill Basin</th>\n",
              "      <td>3</td>\n",
              "    </tr>\n",
              "    <tr>\n",
              "      <th>Borough Park</th>\n",
              "      <td>2</td>\n",
              "    </tr>\n",
              "    <tr>\n",
              "      <th>Gowanus</th>\n",
              "      <td>2</td>\n",
              "    </tr>\n",
              "    <tr>\n",
              "      <th>Madison</th>\n",
              "      <td>2</td>\n",
              "    </tr>\n",
              "    <tr>\n",
              "      <th>South Williamsburg</th>\n",
              "      <td>2</td>\n",
              "    </tr>\n",
              "    <tr>\n",
              "      <th>Prospect Park</th>\n",
              "      <td>2</td>\n",
              "    </tr>\n",
              "    <tr>\n",
              "      <th>Brighton Beach</th>\n",
              "      <td>1</td>\n",
              "    </tr>\n",
              "    <tr>\n",
              "      <th>Homecrest</th>\n",
              "      <td>1</td>\n",
              "    </tr>\n",
              "    <tr>\n",
              "      <th>Bensonhurst East</th>\n",
              "      <td>1</td>\n",
              "    </tr>\n",
              "    <tr>\n",
              "      <th>Dyker Heights</th>\n",
              "      <td>1</td>\n",
              "    </tr>\n",
              "    <tr>\n",
              "      <th>Bensonhurst West</th>\n",
              "      <td>1</td>\n",
              "    </tr>\n",
              "    <tr>\n",
              "      <th>Columbia Street</th>\n",
              "      <td>1</td>\n",
              "    </tr>\n",
              "  </tbody>\n",
              "</table>\n",
              "</div><br><label><b>dtype:</b> int64</label>"
            ]
          },
          "metadata": {},
          "execution_count": 164
        }
      ],
      "source": [
        "# Write code here\n",
        "df_bk['pickup_zone'].value_counts()"
      ]
    },
    {
      "cell_type": "markdown",
      "id": "0c244cca-538a-46f2-8975-5f1c809c36ea",
      "metadata": {
        "id": "0c244cca-538a-46f2-8975-5f1c809c36ea"
      },
      "source": [
        "What are the pickup zones with the 5 highest counts?"
      ]
    },
    {
      "cell_type": "code",
      "execution_count": 162,
      "id": "82f90a84-23b4-498b-ab4b-e8ca8bdedb03",
      "metadata": {
        "id": "82f90a84-23b4-498b-ab4b-e8ca8bdedb03",
        "colab": {
          "base_uri": "https://localhost:8080/",
          "height": 272
        },
        "outputId": "a3a297c4-9767-47f9-f91f-45d7f7dc0779"
      },
      "outputs": [
        {
          "output_type": "execute_result",
          "data": {
            "text/plain": [
              "pickup_zone\n",
              "Fort Greene                    39\n",
              "Downtown Brooklyn/MetroTech    37\n",
              "Brooklyn Heights               34\n",
              "Park Slope                     22\n",
              "Boerum Hill                    20\n",
              "Name: count, dtype: int64"
            ],
            "text/html": [
              "<div>\n",
              "<style scoped>\n",
              "    .dataframe tbody tr th:only-of-type {\n",
              "        vertical-align: middle;\n",
              "    }\n",
              "\n",
              "    .dataframe tbody tr th {\n",
              "        vertical-align: top;\n",
              "    }\n",
              "\n",
              "    .dataframe thead th {\n",
              "        text-align: right;\n",
              "    }\n",
              "</style>\n",
              "<table border=\"1\" class=\"dataframe\">\n",
              "  <thead>\n",
              "    <tr style=\"text-align: right;\">\n",
              "      <th></th>\n",
              "      <th>count</th>\n",
              "    </tr>\n",
              "    <tr>\n",
              "      <th>pickup_zone</th>\n",
              "      <th></th>\n",
              "    </tr>\n",
              "  </thead>\n",
              "  <tbody>\n",
              "    <tr>\n",
              "      <th>Fort Greene</th>\n",
              "      <td>39</td>\n",
              "    </tr>\n",
              "    <tr>\n",
              "      <th>Downtown Brooklyn/MetroTech</th>\n",
              "      <td>37</td>\n",
              "    </tr>\n",
              "    <tr>\n",
              "      <th>Brooklyn Heights</th>\n",
              "      <td>34</td>\n",
              "    </tr>\n",
              "    <tr>\n",
              "      <th>Park Slope</th>\n",
              "      <td>22</td>\n",
              "    </tr>\n",
              "    <tr>\n",
              "      <th>Boerum Hill</th>\n",
              "      <td>20</td>\n",
              "    </tr>\n",
              "  </tbody>\n",
              "</table>\n",
              "</div><br><label><b>dtype:</b> int64</label>"
            ]
          },
          "metadata": {},
          "execution_count": 162
        }
      ],
      "source": [
        "# Write code here\n",
        "df_bk['pickup_zone'].value_counts().head()"
      ]
    },
    {
      "cell_type": "markdown",
      "id": "b1985c18-32d4-444a-a13b-d75a1e601f54",
      "metadata": {
        "id": "b1985c18-32d4-444a-a13b-d75a1e601f54"
      },
      "source": [
        "Create a subset for taxi trips involving pickup in any of the 5 zones identified above."
      ]
    },
    {
      "cell_type": "code",
      "execution_count": 169,
      "id": "513833c2-f4ef-4c3a-8865-aef4aeb172ea",
      "metadata": {
        "id": "513833c2-f4ef-4c3a-8865-aef4aeb172ea",
        "colab": {
          "base_uri": "https://localhost:8080/",
          "height": 272
        },
        "outputId": "8c21094c-1ec0-4091-a175-1afb7bced5db"
      },
      "outputs": [
        {
          "output_type": "execute_result",
          "data": {
            "text/plain": [
              "pickup_zone\n",
              "Midtown Center                  227\n",
              "Penn Station/Madison Sq West    209\n",
              "Upper East Side South           208\n",
              "Clinton East                    208\n",
              "Midtown East                    196\n",
              "Name: count, dtype: int64"
            ],
            "text/html": [
              "<div>\n",
              "<style scoped>\n",
              "    .dataframe tbody tr th:only-of-type {\n",
              "        vertical-align: middle;\n",
              "    }\n",
              "\n",
              "    .dataframe tbody tr th {\n",
              "        vertical-align: top;\n",
              "    }\n",
              "\n",
              "    .dataframe thead th {\n",
              "        text-align: right;\n",
              "    }\n",
              "</style>\n",
              "<table border=\"1\" class=\"dataframe\">\n",
              "  <thead>\n",
              "    <tr style=\"text-align: right;\">\n",
              "      <th></th>\n",
              "      <th>count</th>\n",
              "    </tr>\n",
              "    <tr>\n",
              "      <th>pickup_zone</th>\n",
              "      <th></th>\n",
              "    </tr>\n",
              "  </thead>\n",
              "  <tbody>\n",
              "    <tr>\n",
              "      <th>Midtown Center</th>\n",
              "      <td>227</td>\n",
              "    </tr>\n",
              "    <tr>\n",
              "      <th>Penn Station/Madison Sq West</th>\n",
              "      <td>209</td>\n",
              "    </tr>\n",
              "    <tr>\n",
              "      <th>Upper East Side South</th>\n",
              "      <td>208</td>\n",
              "    </tr>\n",
              "    <tr>\n",
              "      <th>Clinton East</th>\n",
              "      <td>208</td>\n",
              "    </tr>\n",
              "    <tr>\n",
              "      <th>Midtown East</th>\n",
              "      <td>196</td>\n",
              "    </tr>\n",
              "  </tbody>\n",
              "</table>\n",
              "</div><br><label><b>dtype:</b> int64</label>"
            ]
          },
          "metadata": {},
          "execution_count": 169
        }
      ],
      "source": [
        "# Write code here\n",
        "df['pickup_zone'].value_counts().head()"
      ]
    },
    {
      "cell_type": "markdown",
      "id": "f7d13676-5838-4859-a1fd-565adf1c9069",
      "metadata": {
        "id": "f7d13676-5838-4859-a1fd-565adf1c9069"
      },
      "source": [
        "How many rows in this subset?"
      ]
    },
    {
      "cell_type": "code",
      "execution_count": 178,
      "id": "2044422f-e466-4df8-b9d7-ccb709641ae2",
      "metadata": {
        "id": "2044422f-e466-4df8-b9d7-ccb709641ae2",
        "colab": {
          "base_uri": "https://localhost:8080/"
        },
        "outputId": "40e38225-893c-4d8e-e028-88fca5067ca5"
      },
      "outputs": [
        {
          "output_type": "execute_result",
          "data": {
            "text/plain": [
              "(5,)"
            ]
          },
          "metadata": {},
          "execution_count": 178
        }
      ],
      "source": [
        "# Write code here\n",
        "# Write code here\n",
        "#assigning a new dataset with a variable\n",
        "ds=df['pickup_zone'].value_counts().head()\n",
        "ds.shape"
      ]
    },
    {
      "cell_type": "markdown",
      "id": "713b3115-48df-4afa-aa17-6ec4d29276c9",
      "metadata": {
        "id": "713b3115-48df-4afa-aa17-6ec4d29276c9"
      },
      "source": [
        "How many columns in this subset?"
      ]
    },
    {
      "cell_type": "code",
      "execution_count": 180,
      "id": "897b8fa2-395e-4a30-8160-57a8189a8394",
      "metadata": {
        "id": "897b8fa2-395e-4a30-8160-57a8189a8394",
        "colab": {
          "base_uri": "https://localhost:8080/"
        },
        "outputId": "f989b8fa-8d57-4821-ff2b-e6fc2eaf0cc7"
      },
      "outputs": [
        {
          "output_type": "execute_result",
          "data": {
            "text/plain": [
              "5"
            ]
          },
          "metadata": {},
          "execution_count": 180
        }
      ],
      "source": [
        "# Write code here\n",
        "ds.shape[0]"
      ]
    },
    {
      "cell_type": "markdown",
      "id": "18c42194-96ed-4970-a18d-f7d0b8bfa1d8",
      "metadata": {
        "id": "18c42194-96ed-4970-a18d-f7d0b8bfa1d8"
      },
      "source": [
        "Create a countplot to visualize the distribution of taxi trips across the \"top 5\" pickup zones in pickup borough Brooklyn."
      ]
    },
    {
      "cell_type": "code",
      "execution_count": 181,
      "id": "889a8d65-244c-490f-a6ca-0a97a4b6c477",
      "metadata": {
        "id": "889a8d65-244c-490f-a6ca-0a97a4b6c477",
        "colab": {
          "base_uri": "https://localhost:8080/",
          "height": 468
        },
        "outputId": "d8b7cd12-b86d-4f2e-948a-c255d3ab7432"
      },
      "outputs": [
        {
          "output_type": "execute_result",
          "data": {
            "text/plain": [
              "<Axes: xlabel='pickup_zone', ylabel='count'>"
            ]
          },
          "metadata": {},
          "execution_count": 181
        },
        {
          "output_type": "display_data",
          "data": {
            "text/plain": [
              "<Figure size 640x480 with 1 Axes>"
            ],
            "image/png": "[encoded data removed]"
          },
          "metadata": {}
        }
      ],
      "source": [
        "# Write code here\n",
        "sns.countplot(x='pickup_zone',data=df,order=ds.index)"
      ]
    },
    {
      "cell_type": "markdown",
      "id": "d02f7314-5582-42b7-b970-384ed2d7e78a",
      "metadata": {
        "id": "d02f7314-5582-42b7-b970-384ed2d7e78a"
      },
      "source": [
        "What is one thing you notice from the barplot above?  "
      ]
    },
    {
      "cell_type": "markdown",
      "id": "c3b86ab9-b2e4-4579-abd2-88f50f4880a7",
      "metadata": {
        "id": "c3b86ab9-b2e4-4579-abd2-88f50f4880a7"
      },
      "source": [
        "Write response here"
      ]
    },
    {
      "cell_type": "markdown",
      "source": [
        "from the observation we reliased the pickup zone in the various 5 towns had a significant counts"
      ],
      "metadata": {
        "id": "tik1djndD3S5"
      },
      "id": "tik1djndD3S5"
    },
    {
      "cell_type": "markdown",
      "id": "84af8682-4981-46d6-aee5-630ce707a349",
      "metadata": {
        "id": "84af8682-4981-46d6-aee5-630ce707a349"
      },
      "source": [
        "Create a barplot to visualize the total cost on average across each of the \"top 5\" pickup zones in pickup borough Brooklyn."
      ]
    },
    {
      "cell_type": "code",
      "execution_count": 189,
      "id": "fa468c2a-5f16-474f-95e7-4a76e9ec5466",
      "metadata": {
        "id": "fa468c2a-5f16-474f-95e7-4a76e9ec5466",
        "colab": {
          "base_uri": "https://localhost:8080/",
          "height": 580
        },
        "outputId": "c1dff160-6e7b-4939-b6dc-0b4b2ed86f5c"
      },
      "outputs": [
        {
          "output_type": "execute_result",
          "data": {
            "text/plain": [
              "<Axes: xlabel='pickup_zone', ylabel='total'>"
            ]
          },
          "metadata": {},
          "execution_count": 189
        },
        {
          "output_type": "display_data",
          "data": {
            "text/plain": [
              "<Figure size 1000x600 with 1 Axes>"
            ],
            "image/png": "[encoded data removed]"
          },
          "metadata": {}
        }
      ],
      "source": [
        "# Write code here\n",
        "plt.figure(figsize=(10,6))\n",
        "sns.barplot(x='pickup_zone',y='total',data=df,order=ds.index)"
      ]
    },
    {
      "cell_type": "markdown",
      "id": "c3dfca33-95c3-4510-8ddf-c4e425c2a539",
      "metadata": {
        "id": "c3dfca33-95c3-4510-8ddf-c4e425c2a539"
      },
      "source": [
        "What is one thing you notice from the barplot above?  "
      ]
    },
    {
      "cell_type": "markdown",
      "id": "1ca88623-2a67-43a9-af1e-7597e9c6fc7b",
      "metadata": {
        "id": "1ca88623-2a67-43a9-af1e-7597e9c6fc7b"
      },
      "source": [
        "Write response here"
      ]
    },
    {
      "cell_type": "markdown",
      "source": [],
      "metadata": {
        "id": "mOYMmr8gCrvS"
      },
      "id": "mOYMmr8gCrvS"
    }
  ],
  "metadata": {
    "colab": {
      "provenance": []
    },
    "kernelspec": {
      "display_name": "Python 3 (ipykernel)",
      "language": "python",
      "name": "python3"
    },
    "language_info": {
      "codemirror_mode": {
        "name": "ipython",
        "version": 3
      },
      "file_extension": ".py",
      "mimetype": "text/x-python",
      "name": "python",
      "nbconvert_exporter": "python",
      "pygments_lexer": "ipython3",
      "version": "3.11.7"
    }
  },
  "nbformat": 4,
  "nbformat_minor": 5
}